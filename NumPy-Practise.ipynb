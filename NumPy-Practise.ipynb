{
 "cells": [
  {
   "cell_type": "code",
   "execution_count": 1,
   "id": "1f782b83-4a81-49a2-a23e-995aab0a8751",
   "metadata": {},
   "outputs": [],
   "source": [
    "import numpy as np"
   ]
  },
  {
   "cell_type": "code",
   "execution_count": 4,
   "id": "2f020990-7a85-4650-ba58-34a92f799bfa",
   "metadata": {},
   "outputs": [
    {
     "name": "stdout",
     "output_type": "stream",
     "text": [
      "[1 2 3 4 5]\n",
      "int32\n",
      "<class 'numpy.ndarray'>\n"
     ]
    }
   ],
   "source": [
    "var=np.array([1,2,3,4,5])\n",
    "print(var)\n",
    "print(var.dtype)\n",
    "print(type(var))"
   ]
  },
  {
   "cell_type": "code",
   "execution_count": 6,
   "id": "6c492c2e-1eea-4dd8-8d6e-ed7ac58f3797",
   "metadata": {},
   "outputs": [
    {
     "name": "stdout",
     "output_type": "stream",
     "text": [
      "[[1 2 3 4 5]\n",
      " [4 5 6 7 8]]\n",
      "int32\n",
      "<class 'numpy.ndarray'>\n"
     ]
    }
   ],
   "source": [
    "var=np.array([[1,2,3,4,5],[4,5,6,7,8]])\n",
    "print(var)\n",
    "print(var.dtype)\n",
    "print(type(var))"
   ]
  },
  {
   "cell_type": "code",
   "execution_count": 10,
   "id": "dd926f95-e4c9-4a6c-8b31-c4ba86578114",
   "metadata": {},
   "outputs": [
    {
     "name": "stdout",
     "output_type": "stream",
     "text": [
      "[[[1 2 3 4 5]\n",
      "  [4 5 6 7 8]]]\n",
      "int32\n",
      "<class 'numpy.ndarray'>\n",
      "Dimension: 3\n"
     ]
    }
   ],
   "source": [
    "var=np.array([[[1,2,3,4,5],[4,5,6,7,8]]])\n",
    "print(var)\n",
    "print(var.dtype)\n",
    "print(type(var))\n",
    "print(\"Dimension:\",var.ndim)"
   ]
  },
  {
   "cell_type": "code",
   "execution_count": 8,
   "id": "65355ffc-4d63-4291-9b95-32c557b60b2e",
   "metadata": {},
   "outputs": [],
   "source": [
    "                                                            #To make the multiple dimension in a row with func"
   ]
  },
  {
   "cell_type": "code",
   "execution_count": 14,
   "id": "d52732d2-5f3d-4073-bfd9-ed4393d608d6",
   "metadata": {},
   "outputs": [
    {
     "name": "stdout",
     "output_type": "stream",
     "text": [
      "[[[[[[[[[[1 2 3 4 5]]]]]]]]]]\n",
      "<class 'numpy.ndarray'>\n",
      "int32\n",
      "Dimension: 3\n"
     ]
    }
   ],
   "source": [
    "var_1=np.array([1,2,3,4,5],ndmin=10)\n",
    "print(var_1)\n",
    "print(type(var_1))\n",
    "print(var_1.dtype)\n",
    "print(\"Dimension:\",var.ndim)"
   ]
  },
  {
   "cell_type": "code",
   "execution_count": 15,
   "id": "1c2ae6a2-994b-44e2-a3be-fcb7f2926266",
   "metadata": {},
   "outputs": [],
   "source": [
    "                                                                        #Zero Array"
   ]
  },
  {
   "cell_type": "code",
   "execution_count": 24,
   "id": "2d0207d4-32da-4d7c-b61d-9ec84b371a5e",
   "metadata": {},
   "outputs": [
    {
     "name": "stdout",
     "output_type": "stream",
     "text": [
      "[[0. 0.]\n",
      " [0. 0.]\n",
      " [0. 0.]\n",
      " [0. 0.]]\n"
     ]
    }
   ],
   "source": [
    "var_2=np.zeros((4,2))\n",
    "print(var_2)"
   ]
  },
  {
   "cell_type": "code",
   "execution_count": 22,
   "id": "9cd4ec1c-e129-4f61-8923-9ebd9dea4414",
   "metadata": {},
   "outputs": [
    {
     "name": "stdout",
     "output_type": "stream",
     "text": [
      "[[1. 1. 1.]\n",
      " [1. 1. 1.]\n",
      " [1. 1. 1.]\n",
      " [1. 1. 1.]]\n"
     ]
    }
   ],
   "source": [
    "var_2=np.ones((4,3))\n",
    "print(var_2)"
   ]
  },
  {
   "cell_type": "code",
   "execution_count": 27,
   "id": "0e0a3a45-4ad5-4f69-9681-0c9be8244a51",
   "metadata": {},
   "outputs": [
    {
     "name": "stdout",
     "output_type": "stream",
     "text": [
      "[[1. 1. 1. 1.]\n",
      " [1. 1. 1. 1.]\n",
      " [1. 1. 1. 1.]]\n"
     ]
    }
   ],
   "source": [
    "var_3=np.empty((3,4))\n",
    "print(var_3)\n"
   ]
  },
  {
   "cell_type": "code",
   "execution_count": 30,
   "id": "ef2df48b-fc17-48b1-9d02-347b6632f896",
   "metadata": {},
   "outputs": [
    {
     "data": {
      "text/plain": [
       "array([[1., 0., 0.],\n",
       "       [0., 1., 0.],\n",
       "       [0., 0., 1.]])"
      ]
     },
     "execution_count": 30,
     "metadata": {},
     "output_type": "execute_result"
    }
   ],
   "source": [
    "var_4=np.eye(3)\n",
    "var_4"
   ]
  },
  {
   "cell_type": "code",
   "execution_count": 37,
   "id": "42413112-1643-4ad7-a8ce-b66c9b1c9fd4",
   "metadata": {},
   "outputs": [
    {
     "data": {
      "text/plain": [
       "array([0, 1, 2, 3, 4, 5, 6, 7, 8, 9])"
      ]
     },
     "execution_count": 37,
     "metadata": {},
     "output_type": "execute_result"
    }
   ],
   "source": [
    "var_5=np.arange((10))\n",
    "var_5"
   ]
  },
  {
   "cell_type": "code",
   "execution_count": 38,
   "id": "6f223d41-7c7a-4e5e-9eb4-1292f09eb83b",
   "metadata": {},
   "outputs": [
    {
     "data": {
      "text/plain": [
       "array([ 1., 10., 19.])"
      ]
     },
     "execution_count": 38,
     "metadata": {},
     "output_type": "execute_result"
    }
   ],
   "source": [
    "var_6=np.linspace(1,19,num=3)\n",
    "var_6"
   ]
  },
  {
   "cell_type": "code",
   "execution_count": 40,
   "id": "307e025c-4ab2-4a19-ae39-9b8fd3d61db4",
   "metadata": {},
   "outputs": [],
   "source": [
    "                                                            #Random and their function"
   ]
  },
  {
   "cell_type": "code",
   "execution_count": 46,
   "id": "882b2571-4975-420c-a64d-da01d0efad4a",
   "metadata": {},
   "outputs": [
    {
     "data": {
      "text/plain": [
       "array([-0.3658147 , -0.32894384,  1.15993242, -1.5418408 ,  0.10176085])"
      ]
     },
     "execution_count": 46,
     "metadata": {},
     "output_type": "execute_result"
    }
   ],
   "source": [
    "random=np.random.randn(5)\n",
    "random"
   ]
  },
  {
   "cell_type": "code",
   "execution_count": 47,
   "id": "3ee4b207-9dc9-445b-9c22-4ba191c3ae66",
   "metadata": {},
   "outputs": [
    {
     "data": {
      "text/plain": [
       "array([0.43725487, 0.59248868, 0.77226636, 0.17801469, 0.81119277])"
      ]
     },
     "execution_count": 47,
     "metadata": {},
     "output_type": "execute_result"
    }
   ],
   "source": [
    "random=np.random.ranf(5)\n",
    "random"
   ]
  },
  {
   "cell_type": "code",
   "execution_count": 61,
   "id": "e994c5c5-0045-4a4b-a885-bf3183a0398f",
   "metadata": {},
   "outputs": [
    {
     "data": {
      "text/plain": [
       "array([[4, 3],\n",
       "       [4, 3]])"
      ]
     },
     "execution_count": 61,
     "metadata": {},
     "output_type": "execute_result"
    }
   ],
   "source": [
    "random=np.random.randint(0,5,(2,2))\n",
    "random"
   ]
  },
  {
   "cell_type": "code",
   "execution_count": 69,
   "id": "6901c509-09ac-4273-8bc5-d250e2a72f89",
   "metadata": {},
   "outputs": [
    {
     "name": "stdout",
     "output_type": "stream",
     "text": [
      "[[1 2 3 4]\n",
      " [5 6 7 8]]\n",
      "int32\n",
      "float64\n"
     ]
    }
   ],
   "source": [
    "var_11=np.array([[1,2,3,4],[5,6,7,8]])\n",
    "print(var_11)\n",
    "print(var_11.dtype)\n",
    "new_type=var_11.astype(float)\n",
    "print(new_type.dtype)"
   ]
  },
  {
   "cell_type": "code",
   "execution_count": 72,
   "id": "6cc425c6-15f2-4a5b-9361-0b640bfa96fe",
   "metadata": {},
   "outputs": [
    {
     "name": "stdout",
     "output_type": "stream",
     "text": [
      "(2, 3)\n"
     ]
    }
   ],
   "source": [
    "var=np.array([[1,2,3],[12,14,16]])\n",
    "print(var.shape)"
   ]
  },
  {
   "cell_type": "code",
   "execution_count": 79,
   "id": "064f73be-ef37-4ccb-b76a-b98f5510573d",
   "metadata": {},
   "outputs": [
    {
     "data": {
      "text/plain": [
       "array([[1, 2, 3],\n",
       "       [4, 5, 6],\n",
       "       [7, 8, 9]])"
      ]
     },
     "execution_count": 79,
     "metadata": {},
     "output_type": "execute_result"
    }
   ],
   "source": [
    "var=np.array([1,2,3,4,5,6,7,8,9])\n",
    "new_value=var.reshape(3,3)\n",
    "new_value"
   ]
  },
  {
   "cell_type": "code",
   "execution_count": 80,
   "id": "4b437b49-a64d-45c6-b5ce-a19275cfe17b",
   "metadata": {},
   "outputs": [
    {
     "data": {
      "text/plain": [
       "array([[1, 2],\n",
       "       [3, 4],\n",
       "       [5, 6],\n",
       "       [7, 8],\n",
       "       [9, 5]])"
      ]
     },
     "execution_count": 80,
     "metadata": {},
     "output_type": "execute_result"
    }
   ],
   "source": [
    "var=np.array([1,2,3,4,5,6,7,8,9,5])\n",
    "new_value=var.reshape(5,2)\n",
    "new_value"
   ]
  },
  {
   "cell_type": "code",
   "execution_count": 81,
   "id": "9b3dfe56-cb4c-4508-a24d-7893bb29aa37",
   "metadata": {},
   "outputs": [
    {
     "name": "stdout",
     "output_type": "stream",
     "text": [
      "[[[ 1  2]\n",
      "  [ 3  4]\n",
      "  [ 5  6]]\n",
      "\n",
      " [[ 7  8]\n",
      "  [ 9 10]\n",
      "  [11 12]]]\n",
      "3\n",
      "(2, 3, 2)\n"
     ]
    }
   ],
   "source": [
    "var3=np.array([1,2,3,4,5,6,7,8,9,10,11,12])\n",
    "x=var3.reshape(2,3,2)\n",
    "print(x)\n",
    "print(x.ndim)\n",
    "print(x.shape)"
   ]
  },
  {
   "cell_type": "code",
   "execution_count": 82,
   "id": "db8d9a3a-101c-4320-a314-06e6e0cac8fd",
   "metadata": {},
   "outputs": [
    {
     "name": "stdout",
     "output_type": "stream",
     "text": [
      "[ 1  2  3  4  5  6  7  8  9 10 11 12]\n"
     ]
    }
   ],
   "source": [
    "print(x.reshape(-1))"
   ]
  },
  {
   "cell_type": "code",
   "execution_count": null,
   "id": "97f4e4d1-a469-49cd-a54f-9adc1cfc5010",
   "metadata": {},
   "outputs": [],
   "source": []
  }
 ],
 "metadata": {
  "kernelspec": {
   "display_name": "Python 3 (ipykernel)",
   "language": "python",
   "name": "python3"
  },
  "language_info": {
   "codemirror_mode": {
    "name": "ipython",
    "version": 3
   },
   "file_extension": ".py",
   "mimetype": "text/x-python",
   "name": "python",
   "nbconvert_exporter": "python",
   "pygments_lexer": "ipython3",
   "version": "3.12.0"
  },
  "widgets": {
   "application/vnd.jupyter.widget-state+json": {
    "state": {},
    "version_major": 2,
    "version_minor": 0
   }
  }
 },
 "nbformat": 4,
 "nbformat_minor": 5
}
