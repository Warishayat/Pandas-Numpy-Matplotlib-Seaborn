{
 "cells": [
  {
   "cell_type": "code",
   "execution_count": 18,
   "id": "8fab02a8-cc26-46da-a132-7304e058a6af",
   "metadata": {},
   "outputs": [
    {
     "data": {
      "text/plain": [
       "12    w\n",
       "12    a\n",
       "12    r\n",
       "12    i\n",
       "12    s\n",
       "12    A\n",
       "12    b\n",
       "12    b\n",
       "12    A\n",
       "12    s\n",
       "12    i\n",
       "dtype: object"
      ]
     },
     "execution_count": 18,
     "metadata": {},
     "output_type": "execute_result"
    }
   ],
   "source": [
    "import pandas as pd\n",
    "l=[\"w\",\"a\",\"r\",\"i\",\"s\",\"A\",\"b\",\"b\",\"A\",\"s\",\"i\"]\n",
    "var=pd.Series(l,index=['12',\"12\",'12',\"12\",'12',\"12\",'12',\"12\",'12',\"12\",'12'],dtype=None)\n",
    "var"
   ]
  },
  {
   "cell_type": "code",
   "execution_count": 56,
   "id": "1aa2bf27-db7a-45e9-bec7-04f496961823",
   "metadata": {},
   "outputs": [
    {
     "data": {
      "text/plain": [
       "0    2.0\n",
       "1    4.0\n",
       "2    6.0\n",
       "3    8.0\n",
       "4    NaN\n",
       "5    NaN\n",
       "dtype: float64"
      ]
     },
     "execution_count": 56,
     "metadata": {},
     "output_type": "execute_result"
    }
   ],
   "source": [
    "import pandas as pd\n",
    "l=[1,2,3,4,5,6]\n",
    "l2=[1,2,3,4]\n",
    "var2=pd.Series(l)\n",
    "var3=pd.Series(l2)\n",
    "var4=var3+var2\n",
    "var4"
   ]
  },
  {
   "cell_type": "code",
   "execution_count": 34,
   "id": "3d99a68f-48f9-4ac6-bf7e-e65fbd0aea84",
   "metadata": {},
   "outputs": [
    {
     "data": {
      "text/plain": [
       "0    2.0\n",
       "1    4.0\n",
       "2    6.0\n",
       "3    8.0\n",
       "dtype: float64"
      ]
     },
     "execution_count": 34,
     "metadata": {},
     "output_type": "execute_result"
    }
   ],
   "source": [
    "var4[:4]"
   ]
  },
  {
   "cell_type": "code",
   "execution_count": 77,
   "id": "b15973b4-3a6d-4885-8734-54034b38e384",
   "metadata": {},
   "outputs": [
    {
     "name": "stdout",
     "output_type": "stream",
     "text": [
      "waris      [waris, data scientist, University of berlin]\n",
      "janny      [janny, data scientist, University of berlin]\n",
      "starck    [starck, data scientist, University of berlin]\n",
      "tonny      [tonny, data scientist, University of berlin]\n",
      "dtype: object\n"
     ]
    }
   ],
   "source": [
    "dict={\n",
    "    \"waris\":[\"waris\",\"data scientist\",\"University of berlin\"],\n",
    "    \"janny\":[\"janny\",\"data scientist\",\"University of berlin\"],\n",
    "    \"starck\":[\"starck\",\"data scientist\",\"University of berlin\"],\n",
    "    \"tonny\":[\"tonny\",\"data scientist\",\"University of berlin\"]\n",
    "}\n",
    "var=pd.Series(dict)\n",
    "print(var)"
   ]
  },
  {
   "cell_type": "markdown",
   "id": "6805c744-b4eb-4810-83eb-dfd2921105ca",
   "metadata": {},
   "source": [
    "                                            Acessing values of dictionary through index"
   ]
  },
  {
   "cell_type": "code",
   "execution_count": 76,
   "id": "608a6d84-e2af-4b0b-afd2-17c1e9d1f338",
   "metadata": {},
   "outputs": [
    {
     "name": "stdout",
     "output_type": "stream",
     "text": [
      "Single data acessing by index: ['waris', 'data scientist', 'University of berlin']\n",
      "Single data acessing by index: ['janny', 'data scientist', 'University of berlin']\n",
      "Single data acessing by index: ['starck', 'data scientist', 'University of berlin']\n",
      "Single data acessing by index: ['tonny', 'data scientist', 'University of berlin']\n"
     ]
    },
    {
     "name": "stderr",
     "output_type": "stream",
     "text": [
      "C:\\Users\\Waris Hayyat\\AppData\\Local\\Temp\\ipykernel_9288\\3167008605.py:1: FutureWarning: Series.__getitem__ treating keys as positions is deprecated. In a future version, integer keys will always be treated as labels (consistent with DataFrame behavior). To access a value by position, use `ser.iloc[pos]`\n",
      "  print(\"Single data acessing by index:\",var[0])\n",
      "C:\\Users\\Waris Hayyat\\AppData\\Local\\Temp\\ipykernel_9288\\3167008605.py:2: FutureWarning: Series.__getitem__ treating keys as positions is deprecated. In a future version, integer keys will always be treated as labels (consistent with DataFrame behavior). To access a value by position, use `ser.iloc[pos]`\n",
      "  print(\"Single data acessing by index:\",var[1])\n",
      "C:\\Users\\Waris Hayyat\\AppData\\Local\\Temp\\ipykernel_9288\\3167008605.py:3: FutureWarning: Series.__getitem__ treating keys as positions is deprecated. In a future version, integer keys will always be treated as labels (consistent with DataFrame behavior). To access a value by position, use `ser.iloc[pos]`\n",
      "  print(\"Single data acessing by index:\",var[2])\n",
      "C:\\Users\\Waris Hayyat\\AppData\\Local\\Temp\\ipykernel_9288\\3167008605.py:4: FutureWarning: Series.__getitem__ treating keys as positions is deprecated. In a future version, integer keys will always be treated as labels (consistent with DataFrame behavior). To access a value by position, use `ser.iloc[pos]`\n",
      "  print(\"Single data acessing by index:\",var[3])\n"
     ]
    }
   ],
   "source": [
    "print(\"Single data acessing by index:\",var[0])\n",
    "print(\"Single data acessing by index:\",var[1])\n",
    "print(\"Single data acessing by index:\",var[2])\n",
    "print(\"Single data acessing by index:\",var[3])"
   ]
  },
  {
   "cell_type": "markdown",
   "id": "393274e9-79b2-418a-9a9f-d72781174056",
   "metadata": {},
   "source": [
    "                                            Acessing value of dictionary by keys"
   ]
  },
  {
   "cell_type": "code",
   "execution_count": null,
   "id": "c39a9d55-3c37-4ec1-8db6-828fad4a1f1a",
   "metadata": {},
   "outputs": [],
   "source": [
    "print(\"Single data acessing by keys:\",var[\"waris\"])\n",
    "print(\"Single data acessing by index:\",var[\"janny\"])\n",
    "print(\"Single data acessing by index:\",var[\"starck\"])\n",
    "print(\"Single data acessing by index:\",var[\"tonny\"])"
   ]
  }
 ],
 "metadata": {
  "kernelspec": {
   "display_name": "Python 3 (ipykernel)",
   "language": "python",
   "name": "python3"
  },
  "language_info": {
   "codemirror_mode": {
    "name": "ipython",
    "version": 3
   },
   "file_extension": ".py",
   "mimetype": "text/x-python",
   "name": "python",
   "nbconvert_exporter": "python",
   "pygments_lexer": "ipython3",
   "version": "3.12.0"
  },
  "widgets": {
   "application/vnd.jupyter.widget-state+json": {
    "state": {},
    "version_major": 2,
    "version_minor": 0
   }
  }
 },
 "nbformat": 4,
 "nbformat_minor": 5
}
