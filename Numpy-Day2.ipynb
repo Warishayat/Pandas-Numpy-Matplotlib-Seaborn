{
 "cells": [
  {
   "cell_type": "code",
   "execution_count": 1,
   "id": "74623d47-39a7-4423-a589-ac1c1d16832d",
   "metadata": {},
   "outputs": [],
   "source": [
    "import numpy as np"
   ]
  },
  {
   "cell_type": "code",
   "execution_count": 7,
   "id": "736d8a6c-5b6e-4588-9c1f-65a2cc3812b7",
   "metadata": {},
   "outputs": [
    {
     "data": {
      "text/plain": [
       "array([4, 5, 6, 7, 8, 9])"
      ]
     },
     "execution_count": 7,
     "metadata": {},
     "output_type": "execute_result"
    }
   ],
   "source": [
    "var=np.array([1,2,3,4,5,6])\n",
    "var=var+3\n",
    "var"
   ]
  },
  {
   "cell_type": "code",
   "execution_count": 8,
   "id": "499375a5-e405-4e09-82c7-78f0ef1da26d",
   "metadata": {},
   "outputs": [
    {
     "data": {
      "text/plain": [
       "array([ 3,  6,  9, 12, 15, 18])"
      ]
     },
     "execution_count": 8,
     "metadata": {},
     "output_type": "execute_result"
    }
   ],
   "source": [
    "var=np.array([1,2,3,4,5,6])\n",
    "var=var*3\n",
    "var"
   ]
  },
  {
   "cell_type": "code",
   "execution_count": 9,
   "id": "8c67f30b-08cf-4f03-9202-e5fc60e58d9d",
   "metadata": {},
   "outputs": [
    {
     "data": {
      "text/plain": [
       "array([-2, -1,  0,  1,  2,  3])"
      ]
     },
     "execution_count": 9,
     "metadata": {},
     "output_type": "execute_result"
    }
   ],
   "source": [
    "var=np.array([1,2,3,4,5,6])\n",
    "var=var-3\n",
    "var"
   ]
  },
  {
   "cell_type": "code",
   "execution_count": 10,
   "id": "0331f7b9-ca22-4a97-b242-846d7986274f",
   "metadata": {},
   "outputs": [
    {
     "data": {
      "text/plain": [
       "array([0.33333333, 0.66666667, 1.        , 1.33333333, 1.66666667,\n",
       "       2.        ])"
      ]
     },
     "execution_count": 10,
     "metadata": {},
     "output_type": "execute_result"
    }
   ],
   "source": [
    "var=np.array([1,2,3,4,5,6])\n",
    "var=var/3\n",
    "var"
   ]
  },
  {
   "cell_type": "code",
   "execution_count": 11,
   "id": "cb98076b-a273-4606-b374-e487cd9347ec",
   "metadata": {},
   "outputs": [
    {
     "data": {
      "text/plain": [
       "array([  1,   8,  27,  64, 125, 216], dtype=int32)"
      ]
     },
     "execution_count": 11,
     "metadata": {},
     "output_type": "execute_result"
    }
   ],
   "source": [
    "var=np.array([1,2,3,4,5,6])\n",
    "var=var**3\n",
    "var"
   ]
  },
  {
   "cell_type": "code",
   "execution_count": 16,
   "id": "26db1007-f9db-442b-9386-b38f548f3143",
   "metadata": {},
   "outputs": [
    {
     "name": "stdout",
     "output_type": "stream",
     "text": [
      "[ 2  4  6  8 10 12]\n"
     ]
    }
   ],
   "source": [
    "var1=np.array([1,2,3,4,5,6])\n",
    "var2=np.array([1,2,3,4,5,6])\n",
    "print(np.add(var1,var2))\n"
   ]
  },
  {
   "cell_type": "code",
   "execution_count": 17,
   "id": "b45fb3ba-ade7-42ad-ba8f-87a000919030",
   "metadata": {},
   "outputs": [
    {
     "name": "stdout",
     "output_type": "stream",
     "text": [
      "[0 0 0 0 0 0]\n"
     ]
    }
   ],
   "source": [
    "var1=np.array([1,2,3,4,5,6])\n",
    "var2=np.array([1,2,3,4,5,6])\n",
    "print(np.subtract(var1,var2))"
   ]
  },
  {
   "cell_type": "code",
   "execution_count": 18,
   "id": "1e6b7837-84f5-4b9b-8439-50067f414949",
   "metadata": {},
   "outputs": [
    {
     "name": "stdout",
     "output_type": "stream",
     "text": [
      "[ 1  4  9 16 25 36]\n"
     ]
    }
   ],
   "source": [
    "var1=np.array([1,2,3,4,5,6])\n",
    "var2=np.array([1,2,3,4,5,6])\n",
    "print(np.multiply(var1,var2))"
   ]
  },
  {
   "cell_type": "code",
   "execution_count": 19,
   "id": "f1a1f184-b100-48bb-9b69-6069134b014b",
   "metadata": {},
   "outputs": [
    {
     "name": "stdout",
     "output_type": "stream",
     "text": [
      "[0 0 0 0 0 0]\n"
     ]
    }
   ],
   "source": [
    "var1=np.array([1,2,3,4,5,6])\n",
    "var2=np.array([1,2,3,4,5,6])\n",
    "print(np.mod(var1,var2))"
   ]
  },
  {
   "cell_type": "code",
   "execution_count": 21,
   "id": "f2fb5571-539f-44ae-93f7-f480af8d62f0",
   "metadata": {},
   "outputs": [
    {
     "name": "stdout",
     "output_type": "stream",
     "text": [
      "[1. 1. 1. 1. 1. 1.]\n"
     ]
    }
   ],
   "source": [
    "var1=np.array([1,2,3,4,5,6])\n",
    "var2=np.array([1,2,3,4,5,6])\n",
    "print(np.divide(var1,var2))"
   ]
  },
  {
   "cell_type": "code",
   "execution_count": 22,
   "id": "baf2a20b-053a-4a46-9085-8cdd7c9ce8d7",
   "metadata": {},
   "outputs": [
    {
     "name": "stdout",
     "output_type": "stream",
     "text": [
      "[1 0 0 0 0 0]\n"
     ]
    }
   ],
   "source": [
    "var1=np.array([1,2,3,4,5,6])\n",
    "var2=np.array([1,2,3,4,5,6])\n",
    "print(np.reciprocal(var1,var2))"
   ]
  },
  {
   "cell_type": "markdown",
   "id": "30ea99ea-f5a9-4c78-8cfc-95f19cf5b4a4",
   "metadata": {},
   "source": [
    "                                                        2D"
   ]
  },
  {
   "cell_type": "code",
   "execution_count": 25,
   "id": "a377c246-e4fd-4a41-b9ba-6a42066c317c",
   "metadata": {},
   "outputs": [
    {
     "name": "stdout",
     "output_type": "stream",
     "text": [
      "[[2 4 6 8]\n",
      " [2 4 6 8]]\n"
     ]
    }
   ],
   "source": [
    "var2=np.array([[1,2,3,4],[1,2,3,4]])\n",
    "var22=np.array([[1,2,3,4],[1,2,3,4]])\n",
    "print(np.add(var2,var22))"
   ]
  },
  {
   "cell_type": "code",
   "execution_count": 26,
   "id": "eb7f01ad-6989-45eb-a72a-6edd8d77b1e6",
   "metadata": {},
   "outputs": [
    {
     "name": "stdout",
     "output_type": "stream",
     "text": [
      "[[ 1  4  9 16]\n",
      " [ 1  4  9 16]]\n"
     ]
    }
   ],
   "source": [
    "var2=np.array([[1,2,3,4],[1,2,3,4]])\n",
    "var22=np.array([[1,2,3,4],[1,2,3,4]])\n",
    "print(np.multiply(var2,var22))"
   ]
  },
  {
   "cell_type": "code",
   "execution_count": 27,
   "id": "057157a9-5fcc-470d-925e-2512e8365235",
   "metadata": {},
   "outputs": [
    {
     "name": "stdout",
     "output_type": "stream",
     "text": [
      "[[0 0 0 0]\n",
      " [0 0 0 0]]\n"
     ]
    }
   ],
   "source": [
    "var2=np.array([[1,2,3,4],[1,2,3,4]])\n",
    "var22=np.array([[1,2,3,4],[1,2,3,4]])\n",
    "print(np.subtract(var2,var22))"
   ]
  },
  {
   "cell_type": "code",
   "execution_count": 28,
   "id": "579572bd-f609-4aa1-bcdd-5fcc72d6972d",
   "metadata": {},
   "outputs": [
    {
     "name": "stdout",
     "output_type": "stream",
     "text": [
      "[[1. 1. 1. 1.]\n",
      " [1. 1. 1. 1.]]\n"
     ]
    }
   ],
   "source": [
    "var2=np.array([[1,2,3,4],[1,2,3,4]])\n",
    "var22=np.array([[1,2,3,4],[1,2,3,4]])\n",
    "print(np.divide(var2,var22))"
   ]
  },
  {
   "cell_type": "code",
   "execution_count": 29,
   "id": "84f6d5e9-5ea8-4502-a1e0-4449234f9756",
   "metadata": {},
   "outputs": [
    {
     "name": "stdout",
     "output_type": "stream",
     "text": [
      "[[1 0 0 0]\n",
      " [1 0 0 0]]\n"
     ]
    }
   ],
   "source": [
    "var2=np.array([[1,2,3,4],[1,2,3,4]])\n",
    "var22=np.array([[1,2,3,4],[1,2,3,4]])\n",
    "print(np.reciprocal(var2,var22))"
   ]
  },
  {
   "cell_type": "code",
   "execution_count": 45,
   "id": "23b8aad0-7d2d-4a2c-a7f4-da5fc180eee2",
   "metadata": {},
   "outputs": [
    {
     "name": "stdout",
     "output_type": "stream",
     "text": [
      "Minimum is: (1, 0)\n"
     ]
    }
   ],
   "source": [
    "var2=np.array([[1,2,3,4],[1,2,3,4]])\n",
    "var2=np.min(var2),np.argmin(var2)\n",
    "\n",
    "print(\"Minimum is:\",var2)"
   ]
  },
  {
   "cell_type": "code",
   "execution_count": 43,
   "id": "89d174a7-55ff-48d4-9d13-91506175af9b",
   "metadata": {},
   "outputs": [
    {
     "name": "stdout",
     "output_type": "stream",
     "text": [
      "Max is (4, 3)\n"
     ]
    }
   ],
   "source": [
    "var2=np.array([[1,2,3,4],[1,2,3,4]])\n",
    "var=np.max(var2),np.argmax(var2)\n",
    "print(\"Max is\",var)"
   ]
  },
  {
   "cell_type": "markdown",
   "id": "b75ca0f7-144b-4654-a4c5-822a9d72ec3a",
   "metadata": {},
   "source": [
    "                                            Axis 0 work along coloums"
   ]
  },
  {
   "cell_type": "code",
   "execution_count": 46,
   "id": "f778079f-7873-4d50-9e2b-dcbae810916d",
   "metadata": {},
   "outputs": [
    {
     "name": "stdout",
     "output_type": "stream",
     "text": [
      "[1 2 3]\n"
     ]
    }
   ],
   "source": [
    "var1=np.array([[1,2,3],[9,5,6]])\n",
    "print(np.min(var1,axis=0))"
   ]
  },
  {
   "cell_type": "markdown",
   "id": "3786eeb9-ede7-42b8-b77d-a5103bf7f49a",
   "metadata": {},
   "source": [
    "                                                Axis 1 work along rows"
   ]
  },
  {
   "cell_type": "code",
   "execution_count": 48,
   "id": "17e3a914-cb8d-4564-b2e1-b982e3a8f13f",
   "metadata": {},
   "outputs": [
    {
     "name": "stdout",
     "output_type": "stream",
     "text": [
      "[1 5]\n"
     ]
    }
   ],
   "source": [
    "var1=np.array([[1,2,3],[9,5,6]])\n",
    "print(np.min(var1,axis=1))"
   ]
  },
  {
   "cell_type": "code",
   "execution_count": 49,
   "id": "ff88b835-6ecd-42c5-a53a-5082aabe9bc4",
   "metadata": {},
   "outputs": [
    {
     "name": "stdout",
     "output_type": "stream",
     "text": [
      "[9 5 6]\n"
     ]
    }
   ],
   "source": [
    "var1=np.array([[1,2,3],[9,5,6]])\n",
    "print(np.max(var1,axis=0))"
   ]
  },
  {
   "cell_type": "code",
   "execution_count": 50,
   "id": "624e26c6-232d-4a8c-8033-cb85add3d407",
   "metadata": {},
   "outputs": [
    {
     "name": "stdout",
     "output_type": "stream",
     "text": [
      "[3 9]\n"
     ]
    }
   ],
   "source": [
    "var1=np.array([[1,2,3],[9,5,6]])\n",
    "print(np.max(var1,axis=1))"
   ]
  },
  {
   "cell_type": "code",
   "execution_count": 51,
   "id": "6cf7d6af-2415-4271-afdb-8232d052b26d",
   "metadata": {},
   "outputs": [
    {
     "name": "stdout",
     "output_type": "stream",
     "text": [
      "[3 9]\n",
      "[[1.         1.41421356 1.73205081]\n",
      " [3.         2.23606798 2.44948974]]\n"
     ]
    }
   ],
   "source": [
    "var1=np.array([[1,2,3],[9,5,6]])\n",
    "print(np.max(var1,axis=1))\n",
    "print(np.sqrt(var1))"
   ]
  },
  {
   "cell_type": "code",
   "execution_count": 52,
   "id": "ca444f18-a6c9-416c-a566-aa614190c528",
   "metadata": {},
   "outputs": [
    {
     "name": "stdout",
     "output_type": "stream",
     "text": [
      "4.333333333333333\n"
     ]
    }
   ],
   "source": [
    "var1=np.array([[1,2,3],[9,5,6]])\n",
    "print(np.mean(var1))"
   ]
  },
  {
   "cell_type": "code",
   "execution_count": 53,
   "id": "24f97c66-5065-41ba-8c5b-758bb4646ce5",
   "metadata": {},
   "outputs": [
    {
     "name": "stdout",
     "output_type": "stream",
     "text": [
      "4.0\n"
     ]
    }
   ],
   "source": [
    "var1=np.array([[1,2,3],[9,5,6]])\n",
    "print(np.median(var1))"
   ]
  },
  {
   "cell_type": "code",
   "execution_count": 57,
   "id": "22f80046-aedb-4681-9619-f49ee789b53a",
   "metadata": {},
   "outputs": [
    {
     "name": "stdout",
     "output_type": "stream",
     "text": [
      "[ 0.84147098  0.90929743  0.14112001 -0.7568025 ]\n"
     ]
    }
   ],
   "source": [
    "arr=np.array([1,2,3,4])\n",
    "print(np.sin(arr))"
   ]
  },
  {
   "cell_type": "code",
   "execution_count": 58,
   "id": "980a2bb2-4b33-4847-b681-87cd721b072b",
   "metadata": {},
   "outputs": [
    {
     "name": "stdout",
     "output_type": "stream",
     "text": [
      "[ 0.54030231 -0.41614684 -0.9899925  -0.65364362]\n"
     ]
    }
   ],
   "source": [
    "arr=np.array([1,2,3,4])\n",
    "print(np.cos(arr))"
   ]
  },
  {
   "cell_type": "code",
   "execution_count": 59,
   "id": "8a20a9e1-faa8-4e6e-8e19-8fcd17e02d0f",
   "metadata": {},
   "outputs": [
    {
     "name": "stdout",
     "output_type": "stream",
     "text": [
      "[ 1  3  6 10]\n"
     ]
    }
   ],
   "source": [
    "arr=np.array([1,2,3,4])\n",
    "print(np.cumsum(arr))"
   ]
  },
  {
   "cell_type": "code",
   "execution_count": 60,
   "id": "8be269a7-400a-4a25-b790-fa2491e5effe",
   "metadata": {},
   "outputs": [
    {
     "name": "stdout",
     "output_type": "stream",
     "text": [
      "[ 1  3  6 15 20 26]\n"
     ]
    }
   ],
   "source": [
    "var1=np.array([[1,2,3],[9,5,6]])\n",
    "print(np.cumsum(var1))"
   ]
  },
  {
   "cell_type": "markdown",
   "id": "8c503fed-bf48-42f9-928e-648c76217c9d",
   "metadata": {},
   "source": [
    "                                                            BroadCasting"
   ]
  },
  {
   "cell_type": "code",
   "execution_count": 61,
   "id": "775f04dd-c7cc-49f5-817d-82bb8f718497",
   "metadata": {},
   "outputs": [],
   "source": [
    "import numpy as np"
   ]
  },
  {
   "cell_type": "code",
   "execution_count": 72,
   "id": "d67da4e6-9d39-4bc8-acfd-11367697e906",
   "metadata": {},
   "outputs": [
    {
     "name": "stdout",
     "output_type": "stream",
     "text": [
      "[[2 3 4]\n",
      " [3 4 5]]\n"
     ]
    }
   ],
   "source": [
    "x=np.array([[1],[2]])\n",
    "y=np.array([[1,2,3],[1,2,3]])\n",
    "print(x+y)"
   ]
  },
  {
   "cell_type": "markdown",
   "id": "67780dbc-4ee6-40e1-b633-9e16a80acf13",
   "metadata": {},
   "source": [
    "                                                        inding and slicing"
   ]
  },
  {
   "cell_type": "code",
   "execution_count": 81,
   "id": "134ab77c-ded0-45f8-a4b0-7bd7b439ade0",
   "metadata": {},
   "outputs": [
    {
     "name": "stdout",
     "output_type": "stream",
     "text": [
      "[1 2 3]\n"
     ]
    }
   ],
   "source": [
    "idx=np.array([1,2,3,5])\n",
    "print(idx[:-1])"
   ]
  },
  {
   "cell_type": "code",
   "execution_count": 93,
   "id": "90810d85-53cb-4fe5-bc43-2c4d81190cf8",
   "metadata": {},
   "outputs": [
    {
     "name": "stdout",
     "output_type": "stream",
     "text": [
      "2\n",
      "3\n",
      "4\n",
      "5\n",
      "1\n",
      "\n",
      "12\n",
      "13\n",
      "14\n",
      "15\n",
      "11\n",
      "\n",
      "[11 12 13]\n",
      "[1 2 3]\n"
     ]
    }
   ],
   "source": [
    "idx=np.array([[1,2,3,4,5],[11,12,13,14,15]])\n",
    "print(idx[0][1])\n",
    "print(idx[0][2])\n",
    "print(idx[0][3])\n",
    "print(idx[0][4])\n",
    "print(idx[0][0])\n",
    "print()\n",
    "print(idx[1][1])\n",
    "print(idx[1][2])\n",
    "print(idx[1][3])\n",
    "print(idx[1][4])\n",
    "print(idx[1][0])\n",
    "print()\n",
    "print(idx[1][0:3])\n",
    "print(idx[0][0:3])"
   ]
  },
  {
   "cell_type": "code",
   "execution_count": 104,
   "id": "3c745ed5-4183-49db-be66-7201cbdc93f7",
   "metadata": {},
   "outputs": [
    {
     "name": "stdout",
     "output_type": "stream",
     "text": [
      "[[[1 2]\n",
      "  [3 4]\n",
      "  [5 6]\n",
      "  [7 8]]]\n",
      "3\n",
      "values 8\n"
     ]
    }
   ],
   "source": [
    "d3=np.array([[[1,2],[3,4],[5,6],[7,8]]])\n",
    "print(d3)\n",
    "print(d3.ndim)\n",
    "print(\"values\",d3[0][3][1])"
   ]
  },
  {
   "cell_type": "code",
   "execution_count": 106,
   "id": "61f1dee3-81d0-47eb-bbbd-e5f59e2f7b89",
   "metadata": {},
   "outputs": [
    {
     "name": "stdout",
     "output_type": "stream",
     "text": [
      "[5 6 7]\n"
     ]
    }
   ],
   "source": [
    "d2=np.array([[1,2,3,4],[5,6,7,8]])\n",
    "print(d2[1][0:3])"
   ]
  },
  {
   "cell_type": "markdown",
   "id": "26a0ad84-66f6-4400-9b82-f454a7e32801",
   "metadata": {},
   "source": [
    "                                                                    iteration"
   ]
  },
  {
   "cell_type": "code",
   "execution_count": 109,
   "id": "ec9dc302-bbc4-4293-974f-a733155a94c8",
   "metadata": {},
   "outputs": [
    {
     "name": "stdout",
     "output_type": "stream",
     "text": [
      "1\n",
      "2\n",
      "3\n",
      "4\n",
      "5\n",
      "6\n",
      "7\n",
      "8\n",
      "9\n"
     ]
    }
   ],
   "source": [
    "var=np.array([1,2,3,4,5,6,7,8,9])\n",
    "for i in var:\n",
    "    print(i)"
   ]
  },
  {
   "cell_type": "code",
   "execution_count": 118,
   "id": "066750ef-af2f-45e7-8db9-24e7305e0bac",
   "metadata": {},
   "outputs": [
    {
     "name": "stdout",
     "output_type": "stream",
     "text": [
      "[[ 1  2  3  4  5  6  7  8  9]\n",
      " [12  1  3 15 16  6  7  8  9]]\n",
      "\n",
      "[1 2 3 4 5 6 7 8 9]\n",
      "[12  1  3 15 16  6  7  8  9]\n",
      "\n",
      "1\n",
      "2\n",
      "3\n",
      "4\n",
      "5\n",
      "6\n",
      "7\n",
      "8\n",
      "9\n",
      "\n",
      "12\n",
      "1\n",
      "3\n",
      "15\n",
      "16\n",
      "6\n",
      "7\n",
      "8\n",
      "9\n",
      "\n"
     ]
    }
   ],
   "source": [
    "var=np.array([[1,2,3,4,5,6,7,8,9],[12,1,3,15,16,6,7,8,9]])\n",
    "print(var)\n",
    "print()\n",
    "for i in var:\n",
    "    print(i)\n",
    "print()\n",
    "for k in var:\n",
    "    for j in k:\n",
    "        print(j)\n",
    "    print()"
   ]
  },
  {
   "cell_type": "code",
   "execution_count": 123,
   "id": "ceb96258-c010-45f9-8c28-0a1f547028ed",
   "metadata": {},
   "outputs": [
    {
     "name": "stdout",
     "output_type": "stream",
     "text": [
      "1\n",
      "2\n",
      "3\n",
      "\n",
      "12\n",
      "1\n",
      "3\n",
      "\n",
      "21\n",
      "2\n",
      "23\n",
      "\n",
      "\n"
     ]
    }
   ],
   "source": [
    "var=np.array([[[1,2,3],[12,1,3],[21,2,23]]])\n",
    "for k in var:\n",
    "    for j in k:\n",
    "        for x in j:\n",
    "            print(x)\n",
    "        print()\n",
    "    print()"
   ]
  },
  {
   "cell_type": "markdown",
   "id": "30228f80-b1d0-47a4-b4d8-f7e4a924505e",
   "metadata": {},
   "source": [
    "                                                    iterate with function\n",
    "                                                    "
   ]
  },
  {
   "cell_type": "code",
   "execution_count": null,
   "id": "468b5526-b3a5-41f6-a519-0542f71b735b",
   "metadata": {},
   "outputs": [],
   "source": []
  }
 ],
 "metadata": {
  "kernelspec": {
   "display_name": "Python 3 (ipykernel)",
   "language": "python",
   "name": "python3"
  },
  "language_info": {
   "codemirror_mode": {
    "name": "ipython",
    "version": 3
   },
   "file_extension": ".py",
   "mimetype": "text/x-python",
   "name": "python",
   "nbconvert_exporter": "python",
   "pygments_lexer": "ipython3",
   "version": "3.12.0"
  },
  "widgets": {
   "application/vnd.jupyter.widget-state+json": {
    "state": {},
    "version_major": 2,
    "version_minor": 0
   }
  }
 },
 "nbformat": 4,
 "nbformat_minor": 5
}
