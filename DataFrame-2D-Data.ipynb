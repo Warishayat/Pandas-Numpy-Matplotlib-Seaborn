{
 "cells": [
  {
   "cell_type": "code",
   "execution_count": 21,
   "id": "0c239d19-d6e5-4afa-8db8-7c64e8322219",
   "metadata": {},
   "outputs": [
    {
     "name": "stdout",
     "output_type": "stream",
     "text": [
      "   0\n",
      "0  1\n",
      "1  2\n",
      "2  3\n",
      "3  4\n",
      "4  5\n",
      "5  6\n"
     ]
    }
   ],
   "source": [
    "import pandas as pd\n",
    "l=[1,2,3,4,5,6]\n",
    "var=pd.DataFrame(l)\n",
    "print(var)"
   ]
  },
  {
   "cell_type": "markdown",
   "id": "ffe7b4ea-3e43-4334-a274-0b56783059c2",
   "metadata": {},
   "source": [
    "                                                        Dicionary Dataframe"
   ]
  },
  {
   "cell_type": "code",
   "execution_count": 9,
   "id": "f0172645-f12f-406f-b9eb-760a46d39d0e",
   "metadata": {},
   "outputs": [
    {
     "name": "stdout",
     "output_type": "stream",
     "text": [
      "<class 'pandas.core.frame.DataFrame'>\n"
     ]
    },
    {
     "data": {
      "text/html": [
       "<div>\n",
       "<style scoped>\n",
       "    .dataframe tbody tr th:only-of-type {\n",
       "        vertical-align: middle;\n",
       "    }\n",
       "\n",
       "    .dataframe tbody tr th {\n",
       "        vertical-align: top;\n",
       "    }\n",
       "\n",
       "    .dataframe thead th {\n",
       "        text-align: right;\n",
       "    }\n",
       "</style>\n",
       "<table border=\"1\" class=\"dataframe\">\n",
       "  <thead>\n",
       "    <tr style=\"text-align: right;\">\n",
       "      <th></th>\n",
       "      <th>a</th>\n",
       "      <th>b</th>\n",
       "      <th>c</th>\n",
       "      <th>d</th>\n",
       "    </tr>\n",
       "  </thead>\n",
       "  <tbody>\n",
       "    <tr>\n",
       "      <th>0</th>\n",
       "      <td>waris</td>\n",
       "      <td>reema</td>\n",
       "      <td>waris-abbasi</td>\n",
       "      <td>mahira khan</td>\n",
       "    </tr>\n",
       "    <tr>\n",
       "      <th>1</th>\n",
       "      <td>Numan</td>\n",
       "      <td>Risha</td>\n",
       "      <td>Numan-khan</td>\n",
       "      <td>malika arora</td>\n",
       "    </tr>\n",
       "    <tr>\n",
       "      <th>2</th>\n",
       "      <td>Ali</td>\n",
       "      <td>raniii</td>\n",
       "      <td>Ali-shah</td>\n",
       "      <td>seemab-zafar</td>\n",
       "    </tr>\n",
       "    <tr>\n",
       "      <th>3</th>\n",
       "      <td>Zafar</td>\n",
       "      <td>rore</td>\n",
       "      <td>Zafar-abbasi</td>\n",
       "      <td>reema-shah</td>\n",
       "    </tr>\n",
       "  </tbody>\n",
       "</table>\n",
       "</div>"
      ],
      "text/plain": [
       "       a       b             c             d\n",
       "0  waris   reema  waris-abbasi   mahira khan\n",
       "1  Numan   Risha    Numan-khan  malika arora\n",
       "2    Ali  raniii      Ali-shah  seemab-zafar\n",
       "3  Zafar    rore  Zafar-abbasi    reema-shah"
      ]
     },
     "execution_count": 9,
     "metadata": {},
     "output_type": "execute_result"
    }
   ],
   "source": [
    "dic={\n",
    "    \"a\":[\"waris\",\"Numan\",\"Ali\",\"Zafar\"],\n",
    "    \"b\":[\"reema\",\"Risha\",\"raniii\",\"rore\"],\n",
    "    \"c\":[\"waris-abbasi\",\"Numan-khan\",\"Ali-shah\",\"Zafar-abbasi\"],\n",
    "    \"d\":[\"mahira khan\",\"malika arora\",\"seemab-zafar\",\"reema-shah\"]\n",
    "}\n",
    "\n",
    "var2=pd.DataFrame(dic)\n",
    "print(type(var2))\n",
    "var2"
   ]
  },
  {
   "cell_type": "markdown",
   "id": "77f7e91a-81a3-4a8a-a67e-1d3184de31f4",
   "metadata": {},
   "source": [
    "                                                Aceeesing a key from the dictionary\n",
    "                                                "
   ]
  },
  {
   "cell_type": "code",
   "execution_count": 19,
   "id": "fb53b015-3db6-49e3-af61-6712eee9d70f",
   "metadata": {},
   "outputs": [
    {
     "name": "stdout",
     "output_type": "stream",
     "text": [
      "reema\n",
      "Risha\n",
      "raniii\n",
      "rore\n"
     ]
    }
   ],
   "source": [
    "print(var2[\"b\"][0])\n",
    "print(var2[\"b\"][1])\n",
    "print(var2[\"b\"][2])\n",
    "print(var2[\"b\"][3])"
   ]
  },
  {
   "cell_type": "markdown",
   "id": "4bcd915c-b7f3-4d87-a8e2-2064001a357c",
   "metadata": {},
   "source": [
    "                                                                List with in  List"
   ]
  },
  {
   "cell_type": "code",
   "execution_count": 28,
   "id": "210f37a6-b56c-49f4-8c61-b84652d78a56",
   "metadata": {},
   "outputs": [
    {
     "name": "stdout",
     "output_type": "stream",
     "text": [
      "The colum 0 at index 2: 11\n",
      "The colum 1 at index 2: 12\n",
      "The colum 2 at index 2: 13\n",
      "The colum 3 at index 2: 14\n",
      "The colum 4 at index 2: 15\n"
     ]
    },
    {
     "data": {
      "text/html": [
       "<div>\n",
       "<style scoped>\n",
       "    .dataframe tbody tr th:only-of-type {\n",
       "        vertical-align: middle;\n",
       "    }\n",
       "\n",
       "    .dataframe tbody tr th {\n",
       "        vertical-align: top;\n",
       "    }\n",
       "\n",
       "    .dataframe thead th {\n",
       "        text-align: right;\n",
       "    }\n",
       "</style>\n",
       "<table border=\"1\" class=\"dataframe\">\n",
       "  <thead>\n",
       "    <tr style=\"text-align: right;\">\n",
       "      <th></th>\n",
       "      <th>0</th>\n",
       "      <th>1</th>\n",
       "      <th>2</th>\n",
       "      <th>3</th>\n",
       "      <th>4</th>\n",
       "    </tr>\n",
       "  </thead>\n",
       "  <tbody>\n",
       "    <tr>\n",
       "      <th>0</th>\n",
       "      <td>1</td>\n",
       "      <td>2</td>\n",
       "      <td>3</td>\n",
       "      <td>4</td>\n",
       "      <td>5</td>\n",
       "    </tr>\n",
       "    <tr>\n",
       "      <th>1</th>\n",
       "      <td>6</td>\n",
       "      <td>7</td>\n",
       "      <td>8</td>\n",
       "      <td>9</td>\n",
       "      <td>10</td>\n",
       "    </tr>\n",
       "    <tr>\n",
       "      <th>2</th>\n",
       "      <td>11</td>\n",
       "      <td>12</td>\n",
       "      <td>13</td>\n",
       "      <td>14</td>\n",
       "      <td>15</td>\n",
       "    </tr>\n",
       "    <tr>\n",
       "      <th>3</th>\n",
       "      <td>16</td>\n",
       "      <td>17</td>\n",
       "      <td>18</td>\n",
       "      <td>19</td>\n",
       "      <td>20</td>\n",
       "    </tr>\n",
       "  </tbody>\n",
       "</table>\n",
       "</div>"
      ],
      "text/plain": [
       "    0   1   2   3   4\n",
       "0   1   2   3   4   5\n",
       "1   6   7   8   9  10\n",
       "2  11  12  13  14  15\n",
       "3  16  17  18  19  20"
      ]
     },
     "execution_count": 28,
     "metadata": {},
     "output_type": "execute_result"
    }
   ],
   "source": [
    "listWithlist=[[1,2,3,4,5],[6,7,8,9,10],[11,12,13,14,15],[16,17,18,19,20]]\n",
    "var3=pd.DataFrame(listWithlist)\n",
    "print(\"The colum 0 at index 2:\",var3[0][2])\n",
    "print(\"The colum 1 at index 2:\",var3[1][2])\n",
    "print(\"The colum 2 at index 2:\",var3[2][2])\n",
    "print(\"The colum 3 at index 2:\",var3[3][2])\n",
    "print(\"The colum 4 at index 2:\",var3[4][2])\n",
    "var3"
   ]
  },
  {
   "cell_type": "markdown",
   "id": "8784d9cd-7a80-4b8b-a9f1-82ea15506c7d",
   "metadata": {},
   "source": [
    "                                                If we want to acess specific colum from the list"
   ]
  },
  {
   "cell_type": "code",
   "execution_count": 35,
   "id": "f1a9c0ff-58d1-4f41-9055-257357a98fff",
   "metadata": {},
   "outputs": [
    {
     "name": "stdout",
     "output_type": "stream",
     "text": [
      "<class 'pandas.core.frame.DataFrame'>\n"
     ]
    },
    {
     "data": {
      "text/html": [
       "<div>\n",
       "<style scoped>\n",
       "    .dataframe tbody tr th:only-of-type {\n",
       "        vertical-align: middle;\n",
       "    }\n",
       "\n",
       "    .dataframe tbody tr th {\n",
       "        vertical-align: top;\n",
       "    }\n",
       "\n",
       "    .dataframe thead th {\n",
       "        text-align: right;\n",
       "    }\n",
       "</style>\n",
       "<table border=\"1\" class=\"dataframe\">\n",
       "  <thead>\n",
       "    <tr style=\"text-align: right;\">\n",
       "      <th></th>\n",
       "      <th>a</th>\n",
       "      <th>d</th>\n",
       "    </tr>\n",
       "  </thead>\n",
       "  <tbody>\n",
       "    <tr>\n",
       "      <th>0</th>\n",
       "      <td>waris</td>\n",
       "      <td>mahira khan</td>\n",
       "    </tr>\n",
       "    <tr>\n",
       "      <th>1</th>\n",
       "      <td>Numan</td>\n",
       "      <td>malika arora</td>\n",
       "    </tr>\n",
       "    <tr>\n",
       "      <th>2</th>\n",
       "      <td>Ali</td>\n",
       "      <td>seemab-zafar</td>\n",
       "    </tr>\n",
       "    <tr>\n",
       "      <th>3</th>\n",
       "      <td>Zafar</td>\n",
       "      <td>reema-shah</td>\n",
       "    </tr>\n",
       "  </tbody>\n",
       "</table>\n",
       "</div>"
      ],
      "text/plain": [
       "       a             d\n",
       "0  waris   mahira khan\n",
       "1  Numan  malika arora\n",
       "2    Ali  seemab-zafar\n",
       "3  Zafar    reema-shah"
      ]
     },
     "execution_count": 35,
     "metadata": {},
     "output_type": "execute_result"
    }
   ],
   "source": [
    "dic={\n",
    "    \"a\":[\"waris\",\"Numan\",\"Ali\",\"Zafar\"],\n",
    "    \"b\":[\"reema\",\"Risha\",\"raniii\",\"rore\"],\n",
    "    \"c\":[\"waris-abbasi\",\"Numan-khan\",\"Ali-shah\",\"Zafar-abbasi\"],\n",
    "    \"d\":[\"mahira khan\",\"malika arora\",\"seemab-zafar\",\"reema-shah\"]\n",
    "}\n",
    "\n",
    "var2=pd.DataFrame(dic,columns=[\"a\",\"d\"])\n",
    "print(type(var2))\n",
    "var2"
   ]
  },
  {
   "cell_type": "markdown",
   "id": "0e64c65a-1697-47e6-a775-66455d4f1325",
   "metadata": {},
   "source": [
    "                                                if we want to change index"
   ]
  },
  {
   "cell_type": "code",
   "execution_count": 39,
   "id": "ebeb64a9-dcb4-4522-9d92-ebe192e54497",
   "metadata": {},
   "outputs": [
    {
     "name": "stdout",
     "output_type": "stream",
     "text": [
      "<class 'pandas.core.frame.DataFrame'>\n"
     ]
    },
    {
     "data": {
      "text/html": [
       "<div>\n",
       "<style scoped>\n",
       "    .dataframe tbody tr th:only-of-type {\n",
       "        vertical-align: middle;\n",
       "    }\n",
       "\n",
       "    .dataframe tbody tr th {\n",
       "        vertical-align: top;\n",
       "    }\n",
       "\n",
       "    .dataframe thead th {\n",
       "        text-align: right;\n",
       "    }\n",
       "</style>\n",
       "<table border=\"1\" class=\"dataframe\">\n",
       "  <thead>\n",
       "    <tr style=\"text-align: right;\">\n",
       "      <th></th>\n",
       "      <th>a</th>\n",
       "      <th>b</th>\n",
       "      <th>c</th>\n",
       "      <th>d</th>\n",
       "    </tr>\n",
       "  </thead>\n",
       "  <tbody>\n",
       "    <tr>\n",
       "      <th>a</th>\n",
       "      <td>waris</td>\n",
       "      <td>reema</td>\n",
       "      <td>waris-abbasi</td>\n",
       "      <td>mahira khan</td>\n",
       "    </tr>\n",
       "    <tr>\n",
       "      <th>s</th>\n",
       "      <td>Numan</td>\n",
       "      <td>Risha</td>\n",
       "      <td>Numan-khan</td>\n",
       "      <td>malika arora</td>\n",
       "    </tr>\n",
       "    <tr>\n",
       "      <th>d</th>\n",
       "      <td>Qasim</td>\n",
       "      <td>raniii</td>\n",
       "      <td>Ali-shah</td>\n",
       "      <td>seemab-zafar</td>\n",
       "    </tr>\n",
       "    <tr>\n",
       "      <th>f</th>\n",
       "      <td>Tabii</td>\n",
       "      <td>rore</td>\n",
       "      <td>Zafar-abbasi</td>\n",
       "      <td>reema-shah</td>\n",
       "    </tr>\n",
       "  </tbody>\n",
       "</table>\n",
       "</div>"
      ],
      "text/plain": [
       "       a       b             c             d\n",
       "a  waris   reema  waris-abbasi   mahira khan\n",
       "s  Numan   Risha    Numan-khan  malika arora\n",
       "d  Qasim  raniii      Ali-shah  seemab-zafar\n",
       "f  Tabii    rore  Zafar-abbasi    reema-shah"
      ]
     },
     "execution_count": 39,
     "metadata": {},
     "output_type": "execute_result"
    }
   ],
   "source": [
    "dic={\n",
    "    \"a\":[\"waris\",\"Numan\",\"Qasim\",\"Tabii\"],\n",
    "    \"b\":[\"reema\",\"Risha\",\"raniii\",\"rore\"],\n",
    "    \"c\":[\"waris-abbasi\",\"Numan-khan\",\"Ali-shah\",\"Zafar-abbasi\"],\n",
    "    \"d\":[\"mahira khan\",\"malika arora\",\"seemab-zafar\",\"reema-shah\"]\n",
    "}\n",
    "\n",
    "var2=pd.DataFrame(dic,index=[\"a\",\"s\",\"d\",\"f\"])\n",
    "print(type(var2))\n",
    "var2"
   ]
  },
  {
   "cell_type": "markdown",
   "id": "cf317f6b-88b8-4b2b-8c2e-02fec38601fa",
   "metadata": {},
   "source": [
    "                                                        Dataframe from the two diffrent series"
   ]
  },
  {
   "cell_type": "code",
   "execution_count": 37,
   "id": "43315d7d-0f90-436f-921a-9421b75ca71d",
   "metadata": {},
   "outputs": [
    {
     "data": {
      "text/html": [
       "<div>\n",
       "<style scoped>\n",
       "    .dataframe tbody tr th:only-of-type {\n",
       "        vertical-align: middle;\n",
       "    }\n",
       "\n",
       "    .dataframe tbody tr th {\n",
       "        vertical-align: top;\n",
       "    }\n",
       "\n",
       "    .dataframe thead th {\n",
       "        text-align: right;\n",
       "    }\n",
       "</style>\n",
       "<table border=\"1\" class=\"dataframe\">\n",
       "  <thead>\n",
       "    <tr style=\"text-align: right;\">\n",
       "      <th></th>\n",
       "      <th>0</th>\n",
       "      <th>1</th>\n",
       "      <th>2</th>\n",
       "      <th>3</th>\n",
       "      <th>4</th>\n",
       "      <th>5</th>\n",
       "    </tr>\n",
       "  </thead>\n",
       "  <tbody>\n",
       "    <tr>\n",
       "      <th>0</th>\n",
       "      <td>1</td>\n",
       "      <td>2</td>\n",
       "      <td>3</td>\n",
       "      <td>4</td>\n",
       "      <td>5</td>\n",
       "      <td>6</td>\n",
       "    </tr>\n",
       "    <tr>\n",
       "      <th>1</th>\n",
       "      <td>7</td>\n",
       "      <td>8</td>\n",
       "      <td>9</td>\n",
       "      <td>10</td>\n",
       "      <td>11</td>\n",
       "      <td>12</td>\n",
       "    </tr>\n",
       "  </tbody>\n",
       "</table>\n",
       "</div>"
      ],
      "text/plain": [
       "   0  1  2   3   4   5\n",
       "0  1  2  3   4   5   6\n",
       "1  7  8  9  10  11  12"
      ]
     },
     "execution_count": 37,
     "metadata": {},
     "output_type": "execute_result"
    }
   ],
   "source": [
    "l=[pd.Series([1,2,3,4,5,6]),pd.Series([7,8,9,10,11,12])]\n",
    "var4=pd.DataFrame(l)\n",
    "var4"
   ]
  },
  {
   "cell_type": "code",
   "execution_count": null,
   "id": "244f0b59-620c-48df-8790-175a1814de52",
   "metadata": {},
   "outputs": [],
   "source": []
  }
 ],
 "metadata": {
  "kernelspec": {
   "display_name": "Python 3 (ipykernel)",
   "language": "python",
   "name": "python3"
  },
  "language_info": {
   "codemirror_mode": {
    "name": "ipython",
    "version": 3
   },
   "file_extension": ".py",
   "mimetype": "text/x-python",
   "name": "python",
   "nbconvert_exporter": "python",
   "pygments_lexer": "ipython3",
   "version": "3.12.0"
  },
  "widgets": {
   "application/vnd.jupyter.widget-state+json": {
    "state": {},
    "version_major": 2,
    "version_minor": 0
   }
  }
 },
 "nbformat": 4,
 "nbformat_minor": 5
}
