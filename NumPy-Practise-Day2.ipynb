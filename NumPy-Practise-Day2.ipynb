{
 "cells": [
  {
   "cell_type": "code",
   "execution_count": 1,
   "id": "416587a7-c945-47b8-a1db-fa1f4d467a80",
   "metadata": {},
   "outputs": [],
   "source": [
    "import numpy as np"
   ]
  },
  {
   "cell_type": "code",
   "execution_count": 2,
   "id": "e13ffe59-e0f4-467f-a309-6f2ba5eea4e5",
   "metadata": {},
   "outputs": [
    {
     "name": "stdout",
     "output_type": "stream",
     "text": [
      "[ 2  4  6  8 10]\n"
     ]
    }
   ],
   "source": [
    "var=np.array([1,2,3,4,5])\n",
    "print(var*2)"
   ]
  },
  {
   "cell_type": "code",
   "execution_count": 3,
   "id": "0edcf40d-4614-4ba6-9b60-ad4a4e702b53",
   "metadata": {},
   "outputs": [
    {
     "name": "stdout",
     "output_type": "stream",
     "text": [
      "[3 4 5 6 7]\n"
     ]
    }
   ],
   "source": [
    "var=np.array([1,2,3,4,5])\n",
    "print(var+2)"
   ]
  },
  {
   "cell_type": "code",
   "execution_count": 4,
   "id": "ef9adabc-c4b1-489a-bbaf-7c3112cc4771",
   "metadata": {},
   "outputs": [
    {
     "name": "stdout",
     "output_type": "stream",
     "text": [
      "[-1  0  1  2  3]\n"
     ]
    }
   ],
   "source": [
    "var=np.array([1,2,3,4,5])\n",
    "print(var-2)"
   ]
  },
  {
   "cell_type": "code",
   "execution_count": 5,
   "id": "67f987f0-7774-4bdf-a026-5849d5219863",
   "metadata": {},
   "outputs": [
    {
     "name": "stdout",
     "output_type": "stream",
     "text": [
      "[0.5 1.  1.5 2.  2.5]\n"
     ]
    }
   ],
   "source": [
    "var=np.array([1,2,3,4,5])\n",
    "print(var/2)"
   ]
  },
  {
   "cell_type": "code",
   "execution_count": 6,
   "id": "4165c429-21f9-4e96-bd8a-d13fb5a47ebc",
   "metadata": {},
   "outputs": [
    {
     "name": "stdout",
     "output_type": "stream",
     "text": [
      "[1 0 1 0 1]\n"
     ]
    }
   ],
   "source": [
    "var=np.array([1,2,3,4,5])\n",
    "print(var%2)"
   ]
  },
  {
   "cell_type": "code",
   "execution_count": 8,
   "id": "98b4ffe9-c00d-444b-b360-c460f6e3cac8",
   "metadata": {},
   "outputs": [
    {
     "name": "stdout",
     "output_type": "stream",
     "text": [
      "[[ 2  4  6  8]\n",
      " [ 8 10 12 14]]\n"
     ]
    }
   ],
   "source": [
    "var1=np.array([[1,2,3,4],[4,5,6,7,]])\n",
    "print(var1*2)"
   ]
  },
  {
   "cell_type": "code",
   "execution_count": 9,
   "id": "de7d80d3-f787-4b7c-b652-2433b8ba9eea",
   "metadata": {},
   "outputs": [
    {
     "name": "stdout",
     "output_type": "stream",
     "text": [
      "[[3 4 5 6]\n",
      " [6 7 8 9]]\n"
     ]
    }
   ],
   "source": [
    "var1=np.array([[1,2,3,4],[4,5,6,7,]])\n",
    "print(var1+2)"
   ]
  },
  {
   "cell_type": "code",
   "execution_count": 10,
   "id": "b00c91ce-4b4b-4ca2-9045-fd29ee55958f",
   "metadata": {},
   "outputs": [
    {
     "name": "stdout",
     "output_type": "stream",
     "text": [
      "[[-1  0  1  2]\n",
      " [ 2  3  4  5]]\n"
     ]
    }
   ],
   "source": [
    "var1=np.array([[1,2,3,4],[4,5,6,7,]])\n",
    "print(var1-2)"
   ]
  },
  {
   "cell_type": "code",
   "execution_count": 11,
   "id": "41c78a55-cc47-4c17-9de4-717168cdcead",
   "metadata": {},
   "outputs": [
    {
     "name": "stdout",
     "output_type": "stream",
     "text": [
      "[[0.5 1.  1.5 2. ]\n",
      " [2.  2.5 3.  3.5]]\n"
     ]
    }
   ],
   "source": [
    "var1=np.array([[1,2,3,4],[4,5,6,7,]])\n",
    "print(var1/2)"
   ]
  },
  {
   "cell_type": "code",
   "execution_count": 12,
   "id": "bb56dd6a-70c9-4e9c-8c1e-01593a9360b8",
   "metadata": {},
   "outputs": [
    {
     "name": "stdout",
     "output_type": "stream",
     "text": [
      "[[1 0 1 0]\n",
      " [0 1 0 1]]\n"
     ]
    }
   ],
   "source": [
    "var1=np.array([[1,2,3,4],[4,5,6,7,]])\n",
    "print(var1*2)"
   ]
  },
  {
   "cell_type": "code",
   "execution_count": 13,
   "id": "21479a2d-6167-4563-b69b-3be09f5f2143",
   "metadata": {},
   "outputs": [
    {
     "name": "stdout",
     "output_type": "stream",
     "text": [
      "[[ 2  4  6  8]\n",
      " [ 8 10 12 14]]\n"
     ]
    }
   ],
   "source": [
    "var1=np.array([[1,2,3,4],[4,5,6,7,]])\n",
    "var2=np.array([[1,2,3,4],[4,5,6,7,]])\n",
    "print(np.add(var1,var2))"
   ]
  },
  {
   "cell_type": "code",
   "execution_count": 15,
   "id": "b928c2b0-c5b8-4c19-9cba-c84a9ffc273e",
   "metadata": {},
   "outputs": [
    {
     "name": "stdout",
     "output_type": "stream",
     "text": [
      "[[0 0 0 0]\n",
      " [0 0 0 0]]\n"
     ]
    }
   ],
   "source": [
    "var1=np.array([[1,2,3,4],[4,5,6,7,]])\n",
    "var2=np.array([[1,2,3,4],[4,5,6,7,]])\n",
    "print(np.subtract(var1,var2))"
   ]
  },
  {
   "cell_type": "code",
   "execution_count": 16,
   "id": "78fa37df-cc5c-40d6-81b4-d67e710c11d4",
   "metadata": {},
   "outputs": [
    {
     "name": "stdout",
     "output_type": "stream",
     "text": [
      "[[1. 1. 1. 1.]\n",
      " [1. 1. 1. 1.]]\n"
     ]
    }
   ],
   "source": [
    "var1=np.array([[1,2,3,4],[4,5,6,7,]])\n",
    "var2=np.array([[1,2,3,4],[4,5,6,7,]])\n",
    "print(np.divide(var1,var2))"
   ]
  },
  {
   "cell_type": "code",
   "execution_count": 17,
   "id": "606d3517-6917-4dcd-9c2d-9b6bd72cdc19",
   "metadata": {},
   "outputs": [
    {
     "name": "stdout",
     "output_type": "stream",
     "text": [
      "[[ 1  4  9 16]\n",
      " [16 25 36 49]]\n"
     ]
    }
   ],
   "source": [
    "var1=np.array([[1,2,3,4],[4,5,6,7,]])\n",
    "var2=np.array([[1,2,3,4],[4,5,6,7,]])\n",
    "print(np.multiply(var1,var2))"
   ]
  },
  {
   "cell_type": "code",
   "execution_count": 18,
   "id": "a9f9e8c0-f346-44e5-935e-6d0dd8003d51",
   "metadata": {},
   "outputs": [
    {
     "name": "stdout",
     "output_type": "stream",
     "text": [
      "[[0 0 0 0]\n",
      " [0 0 0 0]]\n"
     ]
    }
   ],
   "source": [
    "var1=np.array([[1,2,3,4],[4,5,6,7,]])\n",
    "var2=np.array([[1,2,3,4],[4,5,6,7,]])\n",
    "print(np.mod(var1,var2))"
   ]
  },
  {
   "cell_type": "code",
   "execution_count": 19,
   "id": "01f7c234-ecf5-4330-ada0-ccdf4c7f9bb9",
   "metadata": {},
   "outputs": [
    {
     "name": "stdout",
     "output_type": "stream",
     "text": [
      "[[1 0 0 0]\n",
      " [0 0 0 0]]\n"
     ]
    }
   ],
   "source": [
    "var1=np.array([[1,2,3,4],[4,5,6,7,]])\n",
    "var2=np.array([[1,2,3,4],[4,5,6,7,]])\n",
    "print(np.reciprocal(var1,var2))"
   ]
  },
  {
   "cell_type": "code",
   "execution_count": 25,
   "id": "77220964-cd4c-4c0f-a4a3-ac8b985e23cb",
   "metadata": {},
   "outputs": [
    {
     "name": "stdout",
     "output_type": "stream",
     "text": [
      "1\n"
     ]
    }
   ],
   "source": [
    "var1=np.array([[1,2,3,4],[4,5,6,7,]])\n",
    "\n",
    "print(value)"
   ]
  },
  {
   "cell_type": "code",
   "execution_count": 29,
   "id": "a403cc47-366c-4e4e-b254-3353504f28be",
   "metadata": {},
   "outputs": [
    {
     "name": "stdout",
     "output_type": "stream",
     "text": [
      "(2, 4)\n"
     ]
    }
   ],
   "source": [
    "print(np.shape(var1,))"
   ]
  },
  {
   "cell_type": "code",
   "execution_count": 38,
   "id": "47a558be-cd64-4a7d-83e0-70b85564c1f1",
   "metadata": {},
   "outputs": [
    {
     "data": {
      "text/plain": [
       "(3, 2)"
      ]
     },
     "execution_count": 38,
     "metadata": {},
     "output_type": "execute_result"
    }
   ],
   "source": [
    "var2=np.array([[10,12,3,4],[4,5,6,7,]])\n",
    "value=np.min(var2),np.argmin(var2)\n",
    "value"
   ]
  },
  {
   "cell_type": "code",
   "execution_count": 39,
   "id": "be3b07fe-0e0a-459e-9827-e24e3437f155",
   "metadata": {},
   "outputs": [
    {
     "data": {
      "text/plain": [
       "(12, 1)"
      ]
     },
     "execution_count": 39,
     "metadata": {},
     "output_type": "execute_result"
    }
   ],
   "source": [
    "var2=np.array([[10,12,3,4],[4,5,6,7,]])\n",
    "value=np.max(var2),np.argmax(var2)\n",
    "value"
   ]
  },
  {
   "cell_type": "code",
   "execution_count": 52,
   "id": "22102af8-426b-4eeb-a6ff-58d4ca006dd2",
   "metadata": {},
   "outputs": [
    {
     "data": {
      "text/plain": [
       "array([12,  7])"
      ]
     },
     "execution_count": 52,
     "metadata": {},
     "output_type": "execute_result"
    }
   ],
   "source": [
    "var2=np.array([[10,12,3,4],[4,5,6,7,]])\n",
    "value=np.max(var2,axis=1)\n",
    "value"
   ]
  },
  {
   "cell_type": "code",
   "execution_count": 51,
   "id": "81b42c2d-ed3e-4da9-8b49-e29e9865b188",
   "metadata": {},
   "outputs": [
    {
     "data": {
      "text/plain": [
       "array([4, 5, 3, 4])"
      ]
     },
     "execution_count": 51,
     "metadata": {},
     "output_type": "execute_result"
    }
   ],
   "source": [
    "var2=np.array([[10,12,3,4],[4,5,6,7,]])\n",
    "value=np.min(var2,axis=0)\n",
    "value"
   ]
  },
  {
   "cell_type": "code",
   "execution_count": 53,
   "id": "068dba8a-d1ab-400d-a448-0070abdec6a8",
   "metadata": {},
   "outputs": [
    {
     "name": "stdout",
     "output_type": "stream",
     "text": [
      "[[-0.54402111 -0.53657292  0.14112001 -0.7568025 ]\n",
      " [-0.7568025  -0.95892427 -0.2794155   0.6569866 ]]\n"
     ]
    }
   ],
   "source": [
    "var2=np.array([[10,12,3,4],[4,5,6,7,]])\n",
    "print(np.sin(var2))"
   ]
  },
  {
   "cell_type": "code",
   "execution_count": 55,
   "id": "b90444de-596e-4e4e-8443-c5bf93e941d8",
   "metadata": {},
   "outputs": [
    {
     "data": {
      "text/plain": [
       "array([[-0.83907153,  0.84385396, -0.9899925 , -0.65364362],\n",
       "       [-0.65364362,  0.28366219,  0.96017029,  0.75390225]])"
      ]
     },
     "execution_count": 55,
     "metadata": {},
     "output_type": "execute_result"
    }
   ],
   "source": [
    "var2=np.array([[10,12,3,4],[4,5,6,7,]])\n",
    "value=np.cos(var2)\n",
    "value"
   ]
  },
  {
   "cell_type": "code",
   "execution_count": 56,
   "id": "c0708f10-a4c0-420b-9767-05cc5f677d3a",
   "metadata": {},
   "outputs": [
    {
     "data": {
      "text/plain": [
       "array([10, 22, 25, 29, 33, 38, 44, 51])"
      ]
     },
     "execution_count": 56,
     "metadata": {},
     "output_type": "execute_result"
    }
   ],
   "source": [
    "var2=np.array([[10,12,3,4],[4,5,6,7,]])\n",
    "value=np.cumsum(var2)\n",
    "value"
   ]
  },
  {
   "cell_type": "code",
   "execution_count": 59,
   "id": "fc8554df-acea-498d-a3ec-ff85fe0a285d",
   "metadata": {},
   "outputs": [
    {
     "name": "stdout",
     "output_type": "stream",
     "text": [
      "[5 3 2 1]\n"
     ]
    }
   ],
   "source": [
    "idx=np.array([1,2,3,5])\n",
    "print(idx[::-1])\n"
   ]
  },
  {
   "cell_type": "code",
   "execution_count": 60,
   "id": "430c8451-4a30-4796-a963-4dfc71b6c013",
   "metadata": {},
   "outputs": [
    {
     "name": "stdout",
     "output_type": "stream",
     "text": [
      "[1 5]\n"
     ]
    }
   ],
   "source": [
    "idx=np.array([1,2,3,5])\n",
    "print(idx[::3])\n"
   ]
  },
  {
   "cell_type": "code",
   "execution_count": 61,
   "id": "9e6dd279-8da0-4c02-978e-ed1f962c1c6c",
   "metadata": {},
   "outputs": [
    {
     "name": "stdout",
     "output_type": "stream",
     "text": [
      "[1 2 3]\n"
     ]
    }
   ],
   "source": [
    "idx=np.array([1,2,3,5])\n",
    "print(idx[:3])"
   ]
  },
  {
   "cell_type": "code",
   "execution_count": 62,
   "id": "ea7e7947-7181-4388-921e-ecb7fb9b0c5a",
   "metadata": {},
   "outputs": [
    {
     "name": "stdout",
     "output_type": "stream",
     "text": [
      "[2 3 5]\n"
     ]
    }
   ],
   "source": [
    "idx=np.array([1,2,3,5])\n",
    "print(idx[1:4])"
   ]
  },
  {
   "cell_type": "code",
   "execution_count": 63,
   "id": "3f85f1ba-7a74-4a1a-95a6-682344b14fdd",
   "metadata": {},
   "outputs": [
    {
     "name": "stdout",
     "output_type": "stream",
     "text": [
      "[[ 1  2  3  4]\n",
      " [ 5  6  7  8]\n",
      " [ 9 10 11 12]]\n"
     ]
    }
   ],
   "source": [
    "var=np.array([[1,2,3,4],[5,6,7,8],[9,10,11,12]])\n",
    "print(var)"
   ]
  },
  {
   "cell_type": "code",
   "execution_count": 66,
   "id": "27640bdc-c035-4bcb-b494-51812bae7624",
   "metadata": {},
   "outputs": [
    {
     "name": "stdout",
     "output_type": "stream",
     "text": [
      "12\n"
     ]
    }
   ],
   "source": [
    "print(var[2][3])"
   ]
  },
  {
   "cell_type": "code",
   "execution_count": 67,
   "id": "ed499662-104b-44ad-8e9d-0c599c0aa243",
   "metadata": {},
   "outputs": [
    {
     "name": "stdout",
     "output_type": "stream",
     "text": [
      "[[[ 1  2  3  4]\n",
      "  [ 5  6  7  8]\n",
      "  [ 9 10 11 12]]]\n"
     ]
    }
   ],
   "source": [
    "var=np.array([[[1,2,3,4],[5,6,7,8],[9,10,11,12]]])\n",
    "print(var)"
   ]
  },
  {
   "cell_type": "code",
   "execution_count": 69,
   "id": "d86c7ae3-24c6-445a-999f-3691b3bf954b",
   "metadata": {},
   "outputs": [
    {
     "name": "stdout",
     "output_type": "stream",
     "text": [
      "4\n"
     ]
    }
   ],
   "source": [
    "print(var[0][0][3])"
   ]
  },
  {
   "cell_type": "code",
   "execution_count": 70,
   "id": "90e812be-2021-4a35-9151-6547d317f24e",
   "metadata": {},
   "outputs": [
    {
     "name": "stdout",
     "output_type": "stream",
     "text": [
      "[[[ 1  2  3  4]\n",
      "  [ 5  6  7  8]\n",
      "  [ 9 10 11 12]]]\n",
      "1\n",
      "2\n",
      "3\n",
      "4\n",
      "\n",
      "5\n",
      "6\n",
      "7\n",
      "8\n",
      "\n",
      "9\n",
      "10\n",
      "11\n",
      "12\n",
      "\n",
      "\n"
     ]
    }
   ],
   "source": [
    "var=np.array([[[1,2,3,4],[5,6,7,8],[9,10,11,12]]])\n",
    "print(var)\n",
    "\n",
    "for i in var:\n",
    "    for k in i:\n",
    "        for n in k:\n",
    "            print(n)\n",
    "        print()\n",
    "    print()"
   ]
  },
  {
   "cell_type": "code",
   "execution_count": null,
   "id": "ddf2acb8-d0f5-4105-a1dd-30e997ca526c",
   "metadata": {},
   "outputs": [],
   "source": []
  }
 ],
 "metadata": {
  "kernelspec": {
   "display_name": "Python 3 (ipykernel)",
   "language": "python",
   "name": "python3"
  },
  "language_info": {
   "codemirror_mode": {
    "name": "ipython",
    "version": 3
   },
   "file_extension": ".py",
   "mimetype": "text/x-python",
   "name": "python",
   "nbconvert_exporter": "python",
   "pygments_lexer": "ipython3",
   "version": "3.12.0"
  },
  "widgets": {
   "application/vnd.jupyter.widget-state+json": {
    "state": {},
    "version_major": 2,
    "version_minor": 0
   }
  }
 },
 "nbformat": 4,
 "nbformat_minor": 5
}
