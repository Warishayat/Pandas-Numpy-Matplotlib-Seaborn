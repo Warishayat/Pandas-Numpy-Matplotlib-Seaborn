{
 "cells": [
  {
   "cell_type": "code",
   "execution_count": 1,
   "id": "30e9b44c-f249-4c6f-8801-f522d2b7d5ea",
   "metadata": {},
   "outputs": [],
   "source": [
    "import numpy as np"
   ]
  },
  {
   "cell_type": "code",
   "execution_count": 5,
   "id": "e463bd9b-1df4-4471-9581-a6b64252592f",
   "metadata": {},
   "outputs": [
    {
     "name": "stdout",
     "output_type": "stream",
     "text": [
      "[ 2  4  6  8 10 10 12]\n"
     ]
    }
   ],
   "source": [
    "var=np.array([1,2,3,4,5,5,6,])\n",
    "var2=np.array([1,2,3,4,5,5,6,])\n",
    "print(np.add(var,var2))"
   ]
  },
  {
   "cell_type": "markdown",
   "id": "ffdfa32d-bc37-4c44-9168-96b8b8279db2",
   "metadata": {},
   "source": [
    "                                                                Copy and View"
   ]
  },
  {
   "cell_type": "code",
   "execution_count": 22,
   "id": "6fa2af5d-a1a2-4b2b-aff1-35d07dc65ec4",
   "metadata": {},
   "outputs": [
    {
     "name": "stdout",
     "output_type": "stream",
     "text": [
      "\n",
      "Orignal: [1 2 3 4 5]\n",
      "Copy: [ 1  2 40  4  5]\n"
     ]
    }
   ],
   "source": [
    "var=np.array([1,2,3,4,5])\n",
    "\n",
    "print()\n",
    "co=var.copy()\n",
    "co[2]=40\n",
    "print(\"Orignal:\",var)\n",
    "print(\"Copy:\",co)"
   ]
  },
  {
   "cell_type": "code",
   "execution_count": 23,
   "id": "3515ee89-5a6f-4fef-bd94-1beea1424eed",
   "metadata": {},
   "outputs": [
    {
     "name": "stdout",
     "output_type": "stream",
     "text": [
      "[ 1  2 40  4  5  6]\n",
      "The view of x1 is: [ 1  2 40  4  5  6]\n"
     ]
    }
   ],
   "source": [
    "x=np.array([1,2,3,4,5,6])\n",
    "\n",
    "\n",
    "v1=x.view()\n",
    "x[2]=40\n",
    "print(x)\n",
    "print(\"The view of x1 is:\",v1)"
   ]
  },
  {
   "cell_type": "markdown",
   "id": "cd33f1c4-7590-4203-ae96-c763ce571b21",
   "metadata": {},
   "source": [
    "                                                        Join and Spilit function"
   ]
  },
  {
   "cell_type": "code",
   "execution_count": 37,
   "id": "54b58e32-e3cb-4a84-bf7b-938680884f46",
   "metadata": {},
   "outputs": [
    {
     "name": "stdout",
     "output_type": "stream",
     "text": [
      "[[ 1  2  3  4  5 11 12 13 14 15]\n",
      " [31 31 33 34 35 21 22 23 24 25]]\n"
     ]
    }
   ],
   "source": [
    "var1=np.array([[1,2,3,4,5],[31,31,33,34,35]])\n",
    "var2=np.array([[11,12,13,14,15],[21,22,23,24,25]])\n",
    "ar=np.concatenate((var1,var2),axis=1)\t#axis 1 iterate on the rows while 0 on the columns\n",
    "print(ar)"
   ]
  },
  {
   "cell_type": "code",
   "execution_count": 39,
   "id": "c554a552-4f9f-42ea-93bf-1f3d53f85e13",
   "metadata": {},
   "outputs": [
    {
     "name": "stdout",
     "output_type": "stream",
     "text": [
      "[[ 1  2  3  4  5]\n",
      " [31 31 33 34 35]\n",
      " [11 12 13 14 15]\n",
      " [21 22 23 24 25]]\n"
     ]
    }
   ],
   "source": [
    "var1=np.array([[1,2,3,4,5],[31,31,33,34,35]])\n",
    "var2=np.array([[11,12,13,14,15],[21,22,23,24,25]])\n",
    "ar=np.concatenate((var1,var2),axis=0)\n",
    "print(ar)"
   ]
  },
  {
   "cell_type": "code",
   "execution_count": 43,
   "id": "5b9ea2fb-7dea-4475-b21c-b8fec5fa60b2",
   "metadata": {},
   "outputs": [
    {
     "name": "stdout",
     "output_type": "stream",
     "text": [
      "[[[ 1  2  3  4  5]\n",
      "  [11 12 13 14 15]]\n",
      "\n",
      " [[31 31 33 34 35]\n",
      "  [21 22 23 24 25]]]\n"
     ]
    }
   ],
   "source": [
    "var_1=np.array([[1,2,3,4,5],[31,31,33,34,35]])\n",
    "var_2=np.array([[11,12,13,14,15],[21,22,23,24,25]])\n",
    "ar_new=np.stack((var_1,var_2),axis=1)\n",
    "print(ar_new)"
   ]
  },
  {
   "cell_type": "code",
   "execution_count": 44,
   "id": "65126827-c3d9-436d-ba2f-7d630f55d5ee",
   "metadata": {},
   "outputs": [],
   "source": [
    "import numpy as np"
   ]
  },
  {
   "cell_type": "code",
   "execution_count": 50,
   "id": "147efcc2-3bf2-4824-ae92-3f26dbcb021b",
   "metadata": {},
   "outputs": [
    {
     "name": "stdout",
     "output_type": "stream",
     "text": [
      "[array([1, 2]), array([3, 4]), array([5])]\n"
     ]
    }
   ],
   "source": [
    "var=np.array([1,2,3,4,5])\n",
    "ar=np.array_split(var,3)\n",
    "print(ar)"
   ]
  },
  {
   "cell_type": "code",
   "execution_count": 53,
   "id": "d7c8faae-124a-46d6-889c-57351f255a28",
   "metadata": {},
   "outputs": [
    {
     "name": "stdout",
     "output_type": "stream",
     "text": [
      "[array([[1, 2, 3, 4, 5]]), array([[11, 12, 13, 14, 15]]), array([], shape=(0, 5), dtype=int32)]\n",
      "[[11 12 13 14 15]]\n"
     ]
    }
   ],
   "source": [
    "var=np.array([[1,2,3,4,5],[11,12,13,14,15]])\n",
    "ar=np.array_split(var,3)\n",
    "print(ar)\n",
    "print(ar[1])"
   ]
  },
  {
   "cell_type": "code",
   "execution_count": 54,
   "id": "16bde960-7e30-45f3-a1df-171575603728",
   "metadata": {},
   "outputs": [
    {
     "name": "stdout",
     "output_type": "stream",
     "text": [
      "[array([[ 1,  2],\n",
      "       [11, 12]]), array([[ 3,  4],\n",
      "       [13, 14]]), array([[ 5],\n",
      "       [15]])]\n",
      "[[ 3  4]\n",
      " [13 14]]\n"
     ]
    }
   ],
   "source": [
    "var=np.array([[1,2,3,4,5],[11,12,13,14,15]])\n",
    "ar=np.array_split(var,3,axis=1)\n",
    "print(ar)\n",
    "print(ar[1])"
   ]
  },
  {
   "cell_type": "markdown",
   "id": "368d6acb-9740-4e2d-8376-45b424f506d6",
   "metadata": {},
   "source": [
    "                                                Search Sort and Filter"
   ]
  },
  {
   "cell_type": "code",
   "execution_count": 61,
   "id": "1fe82628-69a3-4495-b211-ca9ef1ade40f",
   "metadata": {},
   "outputs": [
    {
     "name": "stdout",
     "output_type": "stream",
     "text": [
      "(array([4, 7, 8], dtype=int64),)\n"
     ]
    }
   ],
   "source": [
    "var=np.array([1,2,3,4,5,6,7,5,5])\n",
    "result=np.where(var==5)\n",
    "print(result)"
   ]
  },
  {
   "cell_type": "code",
   "execution_count": 68,
   "id": "c8388e47-ccd1-4267-926d-f4253878c912",
   "metadata": {},
   "outputs": [
    {
     "name": "stdout",
     "output_type": "stream",
     "text": [
      "[1 3]\n"
     ]
    }
   ],
   "source": [
    "var1=np.array([1,3,4,6,7])\n",
    "result=np.searchsorted(var1,(2,5),side='right')\n",
    "print(result)"
   ]
  },
  {
   "cell_type": "code",
   "execution_count": 72,
   "id": "9712f939-fcb4-4262-b58b-c9ff8735f493",
   "metadata": {},
   "outputs": [
    {
     "name": "stdout",
     "output_type": "stream",
     "text": [
      "[1 1 3 4 5 6 7 8 9]\n"
     ]
    }
   ],
   "source": [
    "var_1=np.array([5,6,3,4,1,1,7,9,8])\n",
    "result=np.sort(var_1)\n",
    "print(result)"
   ]
  },
  {
   "cell_type": "code",
   "execution_count": 73,
   "id": "95a26bd1-93c3-40ca-80d8-4002ffc70be4",
   "metadata": {},
   "outputs": [
    {
     "name": "stdout",
     "output_type": "stream",
     "text": [
      "['a' 'i' 'r' 's' 'w']\n"
     ]
    }
   ],
   "source": [
    "var_1=np.array([\"w\",\"a\",\"r\",\"i\",\"s\"])\n",
    "result=np.sort(var_1)\n",
    "print(result)"
   ]
  },
  {
   "cell_type": "code",
   "execution_count": 77,
   "id": "4f0435b2-2f6c-4b3c-8ab1-d2f1d5f561b3",
   "metadata": {},
   "outputs": [
    {
     "name": "stdout",
     "output_type": "stream",
     "text": [
      "[[  3   4   5   6]\n",
      " [ 12  14 111 669]]\n"
     ]
    }
   ],
   "source": [
    "var_1=np.array([[5,6,3,4],[111,12,669,14]])\n",
    "result=np.sort(var_1)\n",
    "print(result)"
   ]
  },
  {
   "cell_type": "markdown",
   "id": "c3ebe372-b9d7-453b-85ef-8079b8cf5167",
   "metadata": {},
   "source": [
    "                                                        filter Function"
   ]
  },
  {
   "cell_type": "code",
   "execution_count": 80,
   "id": "abebf80a-8933-463b-9ac1-205d6942002d",
   "metadata": {},
   "outputs": [
    {
     "name": "stdout",
     "output_type": "stream",
     "text": [
      "3\n"
     ]
    }
   ],
   "source": [
    "df=np.array([1,2,3,4])\n",
    "result=[True,False,True,False]\n",
    "new_result=df[2]\n",
    "print(new_result)"
   ]
  },
  {
   "cell_type": "markdown",
   "id": "165395b2-bac1-4a67-bf7d-b7e2c3256f9c",
   "metadata": {},
   "source": [
    "                                          Some Functionlike shuffle / unique / resize/ flatten/ ravel"
   ]
  },
  {
   "cell_type": "code",
   "execution_count": 82,
   "id": "859af414-22f1-420d-9268-793729729dcd",
   "metadata": {},
   "outputs": [
    {
     "data": {
      "text/plain": [
       "array([4, 6, 5, 1, 3, 2])"
      ]
     },
     "execution_count": 82,
     "metadata": {},
     "output_type": "execute_result"
    }
   ],
   "source": [
    "data=np.array([1,2,3,4,5,6])\n",
    "np.random.shuffle(data)\n",
    "data"
   ]
  },
  {
   "cell_type": "code",
   "execution_count": 88,
   "id": "6bd7326f-7e71-49ec-b8cd-345dbaca2011",
   "metadata": {},
   "outputs": [
    {
     "name": "stdout",
     "output_type": "stream",
     "text": [
      "Old Data: [1 2 3 4 5 1 2 8 2 0 2]\n",
      "Unique: (array([0, 1, 2, 3, 4, 5, 8]), array([9, 0, 1, 2, 3, 4, 7], dtype=int64), array([1, 2, 4, 1, 1, 1, 1], dtype=int64))\n"
     ]
    }
   ],
   "source": [
    "new=np.array([1,2,3,4,5,1,2,8,2,0,2])\n",
    "result=np.unique(new,return_index=True,return_counts=True)\n",
    "print(\"Old Data:\",new)\n",
    "print(\"Unique:\",result)"
   ]
  },
  {
   "cell_type": "code",
   "execution_count": 90,
   "id": "42d750ac-1dce-48a1-8e9a-be5fc452a65e",
   "metadata": {},
   "outputs": [
    {
     "name": "stdout",
     "output_type": "stream",
     "text": [
      "[[1 2 3]\n",
      " [4 5 6]]\n"
     ]
    }
   ],
   "source": [
    "resize=np.array([1,2,3,4,5,6])\n",
    "y=np.resize(resize,(2,3))\n",
    "print(y)"
   ]
  },
  {
   "cell_type": "markdown",
   "id": "6e7cd586-9955-49cf-92bd-136e65a21a3a",
   "metadata": {},
   "source": [
    "                                                                    INSERT AND Delet"
   ]
  },
  {
   "cell_type": "code",
   "execution_count": 107,
   "id": "d6dfa65a-db12-4043-bd14-bf6e45749ccd",
   "metadata": {},
   "outputs": [
    {
     "name": "stdout",
     "output_type": "stream",
     "text": [
      "int32\n",
      "[1 2 3 4 5]\n",
      "<class 'numpy.ndarray'>\n",
      "[  1 222   2   3 222   4   5]\n"
     ]
    }
   ],
   "source": [
    "var=np.array([1,2,3,4,5])\n",
    "print(var.dtype)\n",
    "print(var)\n",
    "print(type(var))\n",
    "v=np.insert(var,(1,3),222)\n",
    "print(v)"
   ]
  },
  {
   "cell_type": "raw",
   "id": "8a4240a7-450b-4403-80c7-a2786077c942",
   "metadata": {},
   "source": []
  },
  {
   "cell_type": "code",
   "execution_count": 113,
   "id": "104d912b-ebb4-461d-a7a8-4f27a1fa5172",
   "metadata": {},
   "outputs": [
    {
     "name": "stdout",
     "output_type": "stream",
     "text": [
      "[[ 1  2  3  4]\n",
      " [11 12 13 14]]\n",
      "\n",
      "[[   1    2    3    4]\n",
      " [2222 2222 2222 2222]\n",
      " [  11   12   13   14]]\n"
     ]
    }
   ],
   "source": [
    "var1=np.array([[1,2,3,4],[11,12,13,14]])\n",
    "print(var1)\n",
    "print()\n",
    "result=np.insert(var1,1,2222,axis=0)\n",
    "print(result)"
   ]
  },
  {
   "cell_type": "code",
   "execution_count": 116,
   "id": "5eaa65a7-ee43-422e-bac1-d43c2dad50e0",
   "metadata": {},
   "outputs": [
    {
     "name": "stdout",
     "output_type": "stream",
     "text": [
      "[ 1  2  4 11 12 13 14]\n"
     ]
    }
   ],
   "source": [
    "dlt=np.array([[1,2,3,4],[11,12,13,14]])\n",
    "d=np.delete(dlt,2)\n",
    "print(d)"
   ]
  },
  {
   "cell_type": "code",
   "execution_count": null,
   "id": "27f738d0-8961-4a50-bdce-3c7cad48c2f7",
   "metadata": {},
   "outputs": [],
   "source": []
  }
 ],
 "metadata": {
  "kernelspec": {
   "display_name": "Python 3 (ipykernel)",
   "language": "python",
   "name": "python3"
  },
  "language_info": {
   "codemirror_mode": {
    "name": "ipython",
    "version": 3
   },
   "file_extension": ".py",
   "mimetype": "text/x-python",
   "name": "python",
   "nbconvert_exporter": "python",
   "pygments_lexer": "ipython3",
   "version": "3.12.0"
  },
  "widgets": {
   "application/vnd.jupyter.widget-state+json": {
    "state": {},
    "version_major": 2,
    "version_minor": 0
   }
  }
 },
 "nbformat": 4,
 "nbformat_minor": 5
}
