{
 "cells": [
  {
   "cell_type": "markdown",
   "id": "d8b17b9b-64ca-45b5-928e-5ce98c199bcf",
   "metadata": {},
   "source": [
    "One Dimensional Data/Series\n"
   ]
  },
  {
   "cell_type": "code",
   "execution_count": 5,
   "id": "57eb08d1-a252-46ca-aa75-522e6c8bd831",
   "metadata": {},
   "outputs": [
    {
     "name": "stdout",
     "output_type": "stream",
     "text": [
      "0    1\n",
      "1    2\n",
      "2    3\n",
      "3    4\n",
      "dtype: int64\n"
     ]
    }
   ],
   "source": [
    "import pandas as pd\n",
    " \n",
    "# simple array\n",
    "data = [1, 2, 3, 4]\n",
    " \n",
    "ser = pd.Series(data)\n",
    "print(ser)"
   ]
  },
  {
   "cell_type": "code",
   "execution_count": 11,
   "id": "033153e1-3455-41a0-a812-8e4484a99608",
   "metadata": {},
   "outputs": [
    {
     "name": "stdout",
     "output_type": "stream",
     "text": [
      "0    12\n",
      "1    13\n",
      "2    14\n",
      "3    15\n",
      "4    16\n",
      "5    17\n",
      "dtype: int64\n"
     ]
    }
   ],
   "source": [
    "import pandas as pd\n",
    "numeric_data=[12,13,14,15,16,17]\n",
    "file1=pd.Series(numeric_data)\n",
    "print(file1)"
   ]
  },
  {
   "cell_type": "code",
   "execution_count": 22,
   "id": "653ea76e-4472-4c2e-a997-63487ecd1252",
   "metadata": {},
   "outputs": [
    {
     "name": "stdout",
     "output_type": "stream",
     "text": [
      "INDEX 4: 7\n",
      "INDEX 3: 6\n"
     ]
    },
    {
     "data": {
      "text/plain": [
       "0    3\n",
       "1    4\n",
       "2    5\n",
       "3    6\n",
       "4    7\n",
       "5    8\n",
       "dtype: int64"
      ]
     },
     "execution_count": 22,
     "metadata": {},
     "output_type": "execute_result"
    }
   ],
   "source": [
    "k=[3,4,5,6,7,8]\n",
    "var=pd.Series(k)\n",
    "print(\"INDEX 4:\",var[4])\n",
    "print(\"INDEX 3:\",var[3])\n",
    "var\n"
   ]
  },
  {
   "cell_type": "markdown",
   "id": "9750d155-79d1-48c4-bf74-529a2d7ee2fe",
   "metadata": {},
   "source": [
    "Series Funcionality (Change index,Change datatype) that we can do with PANDAS."
   ]
  },
  {
   "cell_type": "code",
   "execution_count": 26,
   "id": "d1933c03-379a-4a21-a822-f2a701dbaa6c",
   "metadata": {},
   "outputs": [
    {
     "name": "stdout",
     "output_type": "stream",
     "text": [
      "INDEX 4: 7.0\n",
      "INDEX 3: 6.0\n"
     ]
    },
    {
     "name": "stderr",
     "output_type": "stream",
     "text": [
      "C:\\Users\\Waris Hayyat\\AppData\\Local\\Temp\\ipykernel_11876\\2835066165.py:3: FutureWarning: Series.__getitem__ treating keys as positions is deprecated. In a future version, integer keys will always be treated as labels (consistent with DataFrame behavior). To access a value by position, use `ser.iloc[pos]`\n",
      "  print(\"INDEX 4:\",var[4])\n",
      "C:\\Users\\Waris Hayyat\\AppData\\Local\\Temp\\ipykernel_11876\\2835066165.py:4: FutureWarning: Series.__getitem__ treating keys as positions is deprecated. In a future version, integer keys will always be treated as labels (consistent with DataFrame behavior). To access a value by position, use `ser.iloc[pos]`\n",
      "  print(\"INDEX 3:\",var[3])\n"
     ]
    },
    {
     "data": {
      "text/plain": [
       "a    3.0\n",
       "s    4.0\n",
       "d    5.0\n",
       "f    6.0\n",
       "g    7.0\n",
       "h    8.0\n",
       "Name: python, dtype: float64"
      ]
     },
     "execution_count": 26,
     "metadata": {},
     "output_type": "execute_result"
    }
   ],
   "source": [
    "k=[3,4,5,6,7,8]\n",
    "var=pd.Series(k,index=[\"a\",\"s\",\"d\",\"f\",\"g\",\"h\"],dtype=\"float\",name=\"python\")\n",
    "print(\"INDEX 4:\",var[4])\n",
    "print(\"INDEX 3:\",var[3])\n",
    "var"
   ]
  },
  {
   "cell_type": "markdown",
   "id": "89b66f74-9f45-47f4-a690-a7299cf4831d",
   "metadata": {},
   "source": [
    "                    \tUse dictionary/tuple what ever you want"
   ]
  },
  {
   "cell_type": "code",
   "execution_count": 34,
   "id": "404672b1-dd29-406c-a555-c9993bf253db",
   "metadata": {},
   "outputs": [
    {
     "data": {
      "text/plain": [
       "1          (1, 2, 3, 4, 5, 6)\n",
       "2    (11, 1, 213, 14, 15, 16)\n",
       "3    (21, 22, 23, 24, 25, 26)\n",
       "4    (41, 42, 43, 44, 45, 46)\n",
       "Name: dictionary, dtype: object"
      ]
     },
     "execution_count": 34,
     "metadata": {},
     "output_type": "execute_result"
    }
   ],
   "source": [
    "dic={\n",
    "    1:[1,2,3,4,5,6],\n",
    "    2:[11,1,213,14,15,16],\n",
    "    3:[21,22,23,24,25,26],\n",
    "    4:[31,32,33,34,35,36],\n",
    "    4:[41,42,43,44,45,46]\n",
    "}\n",
    "var2=pd.Series(dic,name=\"dictionary\",dtype='float')\n",
    "var2"
   ]
  },
  {
   "cell_type": "markdown",
   "id": "0a65a8fc-8662-4e9d-a234-6ea8926621ce",
   "metadata": {},
   "source": [
    "                        Single number series/Add two s"
   ]
  },
  {
   "cell_type": "code",
   "execution_count": 44,
   "id": "3547d9f8-0566-492d-8f0a-8c64cfa450fb",
   "metadata": {},
   "outputs": [
    {
     "name": "stdout",
     "output_type": "stream",
     "text": [
      "1    24.0\n",
      "2    24.0\n",
      "3    24.0\n",
      "4    24.0\n",
      "5     NaN\n",
      "6     NaN\n",
      "7     NaN\n",
      "dtype: float64\n"
     ]
    }
   ],
   "source": [
    "s=pd.Series(12,index=[1,2,3,4,5,6,7])\n",
    "s2=pd.Series(12,index=[1,2,3,4])\n",
    "s3=s+s2\n",
    "print(s3)"
   ]
  },
  {
   "cell_type": "code",
   "execution_count": null,
   "id": "e926c86d-2649-4fa1-8b3f-a75b435f4e44",
   "metadata": {},
   "outputs": [],
   "source": []
  }
 ],
 "metadata": {
  "kernelspec": {
   "display_name": "Python 3 (ipykernel)",
   "language": "python",
   "name": "python3"
  },
  "language_info": {
   "codemirror_mode": {
    "name": "ipython",
    "version": 3
   },
   "file_extension": ".py",
   "mimetype": "text/x-python",
   "name": "python",
   "nbconvert_exporter": "python",
   "pygments_lexer": "ipython3",
   "version": "3.12.0"
  },
  "widgets": {
   "application/vnd.jupyter.widget-state+json": {
    "state": {},
    "version_major": 2,
    "version_minor": 0
   }
  }
 },
 "nbformat": 4,
 "nbformat_minor": 5
}
