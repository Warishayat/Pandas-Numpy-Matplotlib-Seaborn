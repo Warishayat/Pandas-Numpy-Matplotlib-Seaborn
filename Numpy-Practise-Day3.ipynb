{
 "cells": [
  {
   "cell_type": "code",
   "execution_count": 1,
   "id": "fd8b3f0b-0b16-4428-a465-0d10f4febc84",
   "metadata": {},
   "outputs": [],
   "source": [
    "import numpy as np"
   ]
  },
  {
   "cell_type": "code",
   "execution_count": 7,
   "id": "2671cdbb-9a70-41c6-91ed-cdddee22da90",
   "metadata": {},
   "outputs": [
    {
     "name": "stdout",
     "output_type": "stream",
     "text": [
      "[[1 2 3]\n",
      " [4 5 6]]\n"
     ]
    }
   ],
   "source": [
    "var=np.array([[1,2,3],[4,5,6]])\n",
    "copy=var.copy()\n",
    "print(copy)"
   ]
  },
  {
   "cell_type": "code",
   "execution_count": 8,
   "id": "87188721-c984-43fa-9925-1edede84eee8",
   "metadata": {},
   "outputs": [
    {
     "name": "stdout",
     "output_type": "stream",
     "text": [
      "[[1 2 3]\n",
      " [4 5 6]]\n"
     ]
    }
   ],
   "source": [
    "var=np.array([[1,2,3],[4,5,6]])\n",
    "copy=var.view()\n",
    "print(copy)"
   ]
  },
  {
   "cell_type": "code",
   "execution_count": null,
   "id": "c5246a5f-7423-49e5-b730-465ce94640ff",
   "metadata": {},
   "outputs": [],
   "source": [
    "                    #it will copy the elemenet of the var array but when we change the element the origna var gona change"
   ]
  },
  {
   "cell_type": "code",
   "execution_count": 13,
   "id": "cc86c142-3b44-4061-8a09-e3e17e058e9e",
   "metadata": {},
   "outputs": [
    {
     "name": "stdout",
     "output_type": "stream",
     "text": [
      "[[ 1  2  3]\n",
      " [11  5  6]]\n",
      "\n",
      "[[ 1  2  3]\n",
      " [11  5  6]]\n"
     ]
    }
   ],
   "source": [
    "var=np.array([[1,2,3],[4,5,6]])\n",
    "copy=var.view()\n",
    "copy[1,0]=11\n",
    "print(var)\n",
    "print()\n",
    "print(copy)\n"
   ]
  },
  {
   "cell_type": "code",
   "execution_count": null,
   "id": "db53e52d-b128-4d4d-aaf5-7d3e7706d146",
   "metadata": {},
   "outputs": [],
   "source": [
    "                                            #it will copy the elemenet of the var array but when we change the element the origna var never gona change"
   ]
  },
  {
   "cell_type": "code",
   "execution_count": 16,
   "id": "3ec97570-8a9c-497e-b6f2-8c3111eb107d",
   "metadata": {},
   "outputs": [
    {
     "name": "stdout",
     "output_type": "stream",
     "text": [
      "[[1 2 3]\n",
      " [4 5 6]]\n",
      "\n",
      "[[ 1  2  3]\n",
      " [22  5  6]]\n"
     ]
    }
   ],
   "source": [
    "var=np.array([[1,2,3],[4,5,6]])\n",
    "copy=var.copy()\n",
    "copy[1,0]=22\n",
    "print(var)\n",
    "print()\n",
    "print(copy)"
   ]
  },
  {
   "cell_type": "code",
   "execution_count": 17,
   "id": "8e94e946-293a-43a1-afbb-3608b2223a83",
   "metadata": {},
   "outputs": [],
   "source": [
    "                                                           #join two D array"
   ]
  },
  {
   "cell_type": "code",
   "execution_count": 25,
   "id": "41eac516-3ee6-4a0a-8954-ca9c818d69e5",
   "metadata": {},
   "outputs": [
    {
     "name": "stdout",
     "output_type": "stream",
     "text": [
      "[[ 1  2  3 11 12 13]\n",
      " [ 4  5  6 14 15 16]]\n"
     ]
    }
   ],
   "source": [
    "var1=np.array([[1,2,3],[4,5,6]])\n",
    "var2=np.array([[11,12,13],[14,15,16]])\n",
    "result=np.concatenate((var1,var2),axis=1)\n",
    "print(result)"
   ]
  },
  {
   "cell_type": "code",
   "execution_count": 26,
   "id": "552f66c6-6b01-4775-b344-507e7ccb88ef",
   "metadata": {},
   "outputs": [
    {
     "name": "stdout",
     "output_type": "stream",
     "text": [
      "[[ 1  2  3]\n",
      " [ 4  5  6]\n",
      " [11 12 13]\n",
      " [14 15 16]]\n"
     ]
    }
   ],
   "source": [
    "var1=np.array([[1,2,3],[4,5,6]])\n",
    "var2=np.array([[11,12,13],[14,15,16]])\n",
    "result=np.concatenate((var1,var2),axis=0)\n",
    "print(result)"
   ]
  },
  {
   "cell_type": "markdown",
   "id": "d04116b4-a209-4e27-a91a-90f2c51284e0",
   "metadata": {},
   "source": [
    "                                                                Split array"
   ]
  },
  {
   "cell_type": "code",
   "execution_count": 32,
   "id": "c1bca9ab-4ec9-4aa1-8a44-f1cd6947c5ce",
   "metadata": {},
   "outputs": [
    {
     "name": "stdout",
     "output_type": "stream",
     "text": [
      "[array([[1, 2, 3, 4]]), array([[5, 6, 7, 8]]), array([], shape=(0, 4), dtype=int32)]\n"
     ]
    }
   ],
   "source": [
    "f=np.array([[1,2,3,4],[5,6,7,8]])\n",
    "n=np.array([[11,12,13,14],[16,17,18,19]])\n",
    "x=np.array_split(f,3)\n",
    "print(x)"
   ]
  },
  {
   "cell_type": "code",
   "execution_count": 35,
   "id": "a9e80855-14d6-4688-91e8-e2f3ed208069",
   "metadata": {},
   "outputs": [],
   "source": [
    "                                                                            #Search and sort"
   ]
  },
  {
   "cell_type": "code",
   "execution_count": 36,
   "id": "a972d95f-50b6-4d92-8eac-d186decca540",
   "metadata": {},
   "outputs": [],
   "source": [
    "import numpy as np"
   ]
  },
  {
   "cell_type": "code",
   "execution_count": 37,
   "id": "64cfc441-e899-40f5-83a0-d1ed80f47539",
   "metadata": {},
   "outputs": [
    {
     "name": "stdout",
     "output_type": "stream",
     "text": [
      "(array([4, 7, 8], dtype=int64),)\n"
     ]
    }
   ],
   "source": [
    "var=np.array([1,2,3,4,5,6,7,5,5])\n",
    "result=np.where(var==5)\n",
    "print(result)"
   ]
  },
  {
   "cell_type": "code",
   "execution_count": 42,
   "id": "05929def-387c-45b3-b63d-ebfb079a0f44",
   "metadata": {},
   "outputs": [
    {
     "name": "stdout",
     "output_type": "stream",
     "text": [
      "(array([4, 7, 8], dtype=int64),)\n"
     ]
    }
   ],
   "source": [
    "var=np.array([1,2,3,4,5,6,7,5,5])\n",
    "result=np.where(var==5)\n",
    "print(result)"
   ]
  },
  {
   "cell_type": "code",
   "execution_count": 47,
   "id": "6a10bb54-38a2-43b4-acbe-2b2a041542eb",
   "metadata": {},
   "outputs": [
    {
     "name": "stdout",
     "output_type": "stream",
     "text": [
      "(array([0, 5, 7, 8, 9], dtype=int64),)\n"
     ]
    }
   ],
   "source": [
    "var=[1,2,3,4,5,1,2,1,1,1]\n",
    "new=np.array(var)\n",
    "result=np.where(new==1)\n",
    "print(result)\n"
   ]
  },
  {
   "cell_type": "code",
   "execution_count": 48,
   "id": "1bcf0281-95a2-42e3-b263-b2f399a45ccd",
   "metadata": {},
   "outputs": [],
   "source": [
    "                                                                    #Sort"
   ]
  },
  {
   "cell_type": "code",
   "execution_count": 52,
   "id": "fbc7509b-c1ce-41b6-856c-09846d7ef1f2",
   "metadata": {},
   "outputs": [
    {
     "name": "stdout",
     "output_type": "stream",
     "text": [
      "Not Sorted: [ 1 11 42  1  2  9  4 17  3  5]\n",
      "\n",
      "Sorted Aaray: [ 1  1  2  3  4  5  9 11 17 42]\n"
     ]
    }
   ],
   "source": [
    "var=[1,11,42,1,2,9,4,17,3,5]\n",
    "new=np.array(var)\n",
    "print(\"Not Sorted:\",new)\n",
    "print()\n",
    "result=np.sort(new)\n",
    "print(\"Sorted Aaray:\",result)"
   ]
  },
  {
   "cell_type": "code",
   "execution_count": 53,
   "id": "41821564-b974-43ee-8ed5-290ca9369264",
   "metadata": {},
   "outputs": [],
   "source": [
    "#Some Functionlike shuffle / unique / resize/ flatten/ ravel"
   ]
  },
  {
   "cell_type": "code",
   "execution_count": 61,
   "id": "afec2e5f-2cfe-4536-9312-7e49a5fd47c4",
   "metadata": {},
   "outputs": [
    {
     "data": {
      "text/plain": [
       "array([[ 6,  7,  8,  9, 10],\n",
       "       [ 1,  2,  3,  4,  5]])"
      ]
     },
     "execution_count": 61,
     "metadata": {},
     "output_type": "execute_result"
    }
   ],
   "source": [
    "var=np.array([[1,2,3,4,5],[6,7,8,9,10]])\n",
    "np.random.shuffle(var)\n",
    "var"
   ]
  },
  {
   "cell_type": "code",
   "execution_count": 65,
   "id": "a95c8e33-6f73-40b1-9683-0d9bf546469a",
   "metadata": {},
   "outputs": [
    {
     "data": {
      "text/plain": [
       "(array([0, 1, 2, 3, 4, 5, 8]),\n",
       " array([9, 0, 1, 2, 3, 4, 7], dtype=int64),\n",
       " array([1, 2, 4, 1, 1, 1, 1], dtype=int64))"
      ]
     },
     "execution_count": 65,
     "metadata": {},
     "output_type": "execute_result"
    }
   ],
   "source": [
    "new=np.array([1,2,3,4,5,1,2,8,2,0,2])\n",
    "result=np.unique(new,return_counts=True,return_index)\n",
    "result"
   ]
  },
  {
   "cell_type": "code",
   "execution_count": 66,
   "id": "74068844-0285-4099-8db9-04e56d14355b",
   "metadata": {},
   "outputs": [],
   "source": [
    "                                                                #Insert and delet"
   ]
  },
  {
   "cell_type": "code",
   "execution_count": 73,
   "id": "d15fb98e-0ce9-487d-97a4-cdc0abfb1ee9",
   "metadata": {},
   "outputs": [
    {
     "name": "stdout",
     "output_type": "stream",
     "text": [
      "[1 2 3 4 5]\n",
      "int32\n",
      "[  1 222   2   3 222   4   5]\n"
     ]
    }
   ],
   "source": [
    "var=np.array([1,2,3,4,5])\n",
    "print(var)\n",
    "print(var.dtype)\n",
    "print(np.insert(var,(1,3),222))"
   ]
  },
  {
   "cell_type": "code",
   "execution_count": 74,
   "id": "57e719d3-edf5-4d82-80fa-2f48358fb924",
   "metadata": {},
   "outputs": [
    {
     "name": "stdout",
     "output_type": "stream",
     "text": [
      "[1 3 5]\n"
     ]
    }
   ],
   "source": [
    "print(np.delete(var,(1,3)))"
   ]
  },
  {
   "cell_type": "code",
   "execution_count": null,
   "id": "db93f94a-13ae-4835-9167-1e2bdf8ee681",
   "metadata": {},
   "outputs": [],
   "source": []
  }
 ],
 "metadata": {
  "kernelspec": {
   "display_name": "Python 3 (ipykernel)",
   "language": "python",
   "name": "python3"
  },
  "language_info": {
   "codemirror_mode": {
    "name": "ipython",
    "version": 3
   },
   "file_extension": ".py",
   "mimetype": "text/x-python",
   "name": "python",
   "nbconvert_exporter": "python",
   "pygments_lexer": "ipython3",
   "version": "3.12.0"
  },
  "widgets": {
   "application/vnd.jupyter.widget-state+json": {
    "state": {},
    "version_major": 2,
    "version_minor": 0
   }
  }
 },
 "nbformat": 4,
 "nbformat_minor": 5
}
