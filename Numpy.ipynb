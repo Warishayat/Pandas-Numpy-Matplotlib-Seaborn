{
 "cells": [
  {
   "cell_type": "code",
   "execution_count": 1,
   "id": "8a34e3d0-d440-4157-aab6-ebad9e62f4a1",
   "metadata": {},
   "outputs": [],
   "source": [
    "import numpy as np"
   ]
  },
  {
   "cell_type": "markdown",
   "id": "7fc01d03-790b-4c7a-a757-b06129d7521c",
   "metadata": {},
   "source": [
    "                                            One Dimension Array"
   ]
  },
  {
   "cell_type": "code",
   "execution_count": 31,
   "id": "4a8a9c0b-96f8-46e9-bc40-546daa87b754",
   "metadata": {},
   "outputs": [
    {
     "name": "stdout",
     "output_type": "stream",
     "text": [
      "[1 2 3 4 5]\n",
      "<class 'numpy.ndarray'>\n",
      "Dimension: 1\n"
     ]
    }
   ],
   "source": [
    "var=np.array([1,2,3,4,5])\n",
    "print(var)\n",
    "print(type(var))\n",
    "print(\"Dimension:\",var.ndim)"
   ]
  },
  {
   "cell_type": "markdown",
   "id": "fd699ea2-a0c3-4c5e-aa20-d5b581f82b6d",
   "metadata": {},
   "source": [
    "                                                Two Dimension Array"
   ]
  },
  {
   "cell_type": "code",
   "execution_count": 38,
   "id": "0c5dc644-1777-4495-bcfc-18b0c20611f1",
   "metadata": {},
   "outputs": [
    {
     "name": "stdout",
     "output_type": "stream",
     "text": [
      "[[1 2 3 4 5]\n",
      " [2 3 4 5 6]]\n",
      "<class 'numpy.ndarray'>\n",
      "Dimension: 2\n"
     ]
    }
   ],
   "source": [
    "var2=np.array([[1,2,3,4,5],[2,3,4,5,6]])\n",
    "print(var2)\n",
    "print(type(var2))\n",
    "print(\"Dimension:\",var2.ndim)"
   ]
  },
  {
   "cell_type": "markdown",
   "id": "d1184048-cc42-4856-a450-9a2868c88fbc",
   "metadata": {},
   "source": [
    "                                                    Three Dimension Array"
   ]
  },
  {
   "cell_type": "code",
   "execution_count": 40,
   "id": "42bd85eb-5da1-4051-92b6-a47e459c000f",
   "metadata": {},
   "outputs": [
    {
     "name": "stdout",
     "output_type": "stream",
     "text": [
      "[[[ 1  2  3  4  5]\n",
      "  [ 5  6  7  8  9]\n",
      "  [10 11 12 13 14]]]\n",
      "Type: <class 'numpy.ndarray'>\n",
      "Dimension: 3\n"
     ]
    }
   ],
   "source": [
    "var3=np.array([[[1,2,3,4,5],[5,6,7,8,9],[10,11,12,13,14]]])\n",
    "print(var3)\n",
    "print(\"Type:\",type(var3))\n",
    "print(\"Dimension:\",var3.ndim)"
   ]
  },
  {
   "cell_type": "markdown",
   "id": "beab9bd4-3fef-438d-b582-939d37059fab",
   "metadata": {},
   "source": [
    "                                                            MultiDimensional-Array"
   ]
  },
  {
   "cell_type": "code",
   "execution_count": 42,
   "id": "02bc68f5-fb0c-456e-b248-7670b4dfab94",
   "metadata": {},
   "outputs": [
    {
     "name": "stdout",
     "output_type": "stream",
     "text": [
      "[[[[[[[[[[1 2 3 4 5]]]]]]]]]]\n",
      "Dimension: 10\n"
     ]
    }
   ],
   "source": [
    "arn=np.array([1,2,3,4,5],ndmin=10)\n",
    "print(arn)\n",
    "print(\"Dimension:\",arn.ndim)"
   ]
  },
  {
   "cell_type": "markdown",
   "id": "75ff5022-ec33-46ca-a198-e6454448e72d",
   "metadata": {},
   "source": [
    "                                            Array filled with 0"
   ]
  },
  {
   "cell_type": "code",
   "execution_count": 48,
   "id": "06b119f1-71d2-46de-ad50-ac1eea616467",
   "metadata": {},
   "outputs": [
    {
     "name": "stdout",
     "output_type": "stream",
     "text": [
      "[[0. 0. 0. 0.]\n",
      " [0. 0. 0. 0.]\n",
      " [0. 0. 0. 0.]]\n"
     ]
    }
   ],
   "source": [
    "zero_Arr=np.zeros(4)\n",
    "ar_zeros=np.zeros((3,4))\n",
    "print(ar_zeros)"
   ]
  },
  {
   "cell_type": "markdown",
   "id": "0504943e-e421-41ff-b721-59fb286698a3",
   "metadata": {},
   "source": [
    "                                                Array filled with `1"
   ]
  },
  {
   "cell_type": "code",
   "execution_count": 53,
   "id": "74b57610-0eea-46d0-a15b-c68c8a22f861",
   "metadata": {},
   "outputs": [
    {
     "name": "stdout",
     "output_type": "stream",
     "text": [
      "[1. 1. 1. 1.]\n",
      "\n",
      "[[1. 1. 1. 1.]\n",
      " [1. 1. 1. 1.]\n",
      " [1. 1. 1. 1.]]\n"
     ]
    }
   ],
   "source": [
    "zero_Arr=np.ones(4)\n",
    "print(zero_Arr)\n",
    "print()\n",
    "Multi_one=np.ones((3,4))\n",
    "print(Multi_one)"
   ]
  },
  {
   "cell_type": "markdown",
   "id": "eb4e0a68-516b-45df-9816-52a51a5eca07",
   "metadata": {},
   "source": [
    "                                                        Array fill with empty"
   ]
  },
  {
   "cell_type": "code",
   "execution_count": 57,
   "id": "4b3b2f24-bc74-4da6-8ed8-98490a70687f",
   "metadata": {},
   "outputs": [
    {
     "name": "stdout",
     "output_type": "stream",
     "text": [
      "[ 1.46819843e-311  0.00000000e+000 -4.94065646e-324]\n"
     ]
    }
   ],
   "source": [
    "empty_arr=np.empty(3)\n",
    "print(empty_arr)"
   ]
  },
  {
   "cell_type": "markdown",
   "id": "0f2625d8-e6a5-4fb4-a52a-0b2f3d3d22f7",
   "metadata": {},
   "source": [
    "                                                                    Range Array"
   ]
  },
  {
   "cell_type": "code",
   "execution_count": 60,
   "id": "6b8832f8-6569-40f5-9e50-7b82d275a406",
   "metadata": {},
   "outputs": [
    {
     "name": "stdout",
     "output_type": "stream",
     "text": [
      "[0 1 2 3]\n"
     ]
    }
   ],
   "source": [
    "arrange_arr=np.arange(4)\n",
    "print(arrange_arr)"
   ]
  },
  {
   "cell_type": "markdown",
   "id": "0e2fc4bb-30b7-47b0-a8d7-7bd45299e184",
   "metadata": {},
   "source": [
    "                                                        Daigonal Element 1"
   ]
  },
  {
   "cell_type": "code",
   "execution_count": 64,
   "id": "43b91f2b-75fc-4b8e-9f6e-f7ca2966e1e9",
   "metadata": {},
   "outputs": [
    {
     "name": "stdout",
     "output_type": "stream",
     "text": [
      "[[1. 0. 0. 0.]\n",
      " [0. 1. 0. 0.]\n",
      " [0. 0. 1. 0.]]\n",
      "2\n"
     ]
    }
   ],
   "source": [
    "daingonal_Arr=np.eye(3,4)\n",
    "print(daingonal_Arr)\n",
    "print(daingonal_Arr.ndim)"
   ]
  },
  {
   "cell_type": "markdown",
   "id": "e0aa2929-f9b5-417f-aefe-1782fe0f8ef3",
   "metadata": {},
   "source": [
    "                                                    Special value in range"
   ]
  },
  {
   "cell_type": "code",
   "execution_count": 69,
   "id": "6663de01-5696-4c58-8e2c-e99357e86c62",
   "metadata": {},
   "outputs": [
    {
     "name": "stdout",
     "output_type": "stream",
     "text": [
      "[ 1.   5.5 10. ]\n"
     ]
    }
   ],
   "source": [
    "linespace=np.linspace(1,10,num=3)\n",
    "print(linespace)"
   ]
  },
  {
   "cell_type": "markdown",
   "id": "3328f69f-4dea-44e4-b278-b76d0992049e",
   "metadata": {},
   "source": [
    "                                                            Random number in  numpy"
   ]
  },
  {
   "cell_type": "markdown",
   "id": "a6f71967-1eb0-46a7-acab-e037849419d3",
   "metadata": {},
   "source": [
    "                                                        random.rand"
   ]
  },
  {
   "cell_type": "code",
   "execution_count": 80,
   "id": "c6901f6d-72a0-42d9-b69b-6e1b20843c98",
   "metadata": {},
   "outputs": [
    {
     "name": "stdout",
     "output_type": "stream",
     "text": [
      "[[0.9489615  0.16398229]\n",
      " [0.55258226 0.60359308]]\n"
     ]
    }
   ],
   "source": [
    "var=np.random.rand(2,2)\n",
    "print(var)"
   ]
  },
  {
   "cell_type": "markdown",
   "id": "f3ebaa02-9e46-460d-9bc2-0b806affd284",
   "metadata": {},
   "source": [
    "                                                        randn"
   ]
  },
  {
   "cell_type": "code",
   "execution_count": 83,
   "id": "4c506fd2-cae7-4ddf-a187-7425894d114a",
   "metadata": {},
   "outputs": [
    {
     "data": {
      "text/plain": [
       "array([[ 1.23438522,  0.41632518,  0.28061653, -0.53833136],\n",
       "       [ 1.2392863 ,  1.17675348,  0.11467185,  3.566596  ]])"
      ]
     },
     "execution_count": 83,
     "metadata": {},
     "output_type": "execute_result"
    }
   ],
   "source": [
    "var=np.random.randn(2,4)\n",
    "var"
   ]
  },
  {
   "cell_type": "markdown",
   "id": "368bb804-6e30-435a-a81b-fe2d4f9b71b1",
   "metadata": {},
   "source": [
    "                                                            ranf"
   ]
  },
  {
   "cell_type": "code",
   "execution_count": 87,
   "id": "04193eaa-fbee-4984-9771-700356d8c293",
   "metadata": {},
   "outputs": [
    {
     "name": "stdout",
     "output_type": "stream",
     "text": [
      "[0.82356138 0.46296049]\n"
     ]
    }
   ],
   "source": [
    "var=np.random.ranf(2)\n",
    "print(var)"
   ]
  },
  {
   "cell_type": "markdown",
   "id": "9bc47d2d-f95f-4b3d-a2b8-1771d0576beb",
   "metadata": {},
   "source": [
    "                                                            rand_integers"
   ]
  },
  {
   "cell_type": "code",
   "execution_count": 99,
   "id": "0faf4467-3ca0-496d-a49a-12bc5d122c15",
   "metadata": {},
   "outputs": [
    {
     "data": {
      "text/plain": [
       "array([[6, 8, 3, 2],\n",
       "       [4, 2, 8, 5],\n",
       "       [9, 6, 7, 3],\n",
       "       [1, 3, 5, 1]])"
      ]
     },
     "execution_count": 99,
     "metadata": {},
     "output_type": "execute_result"
    }
   ],
   "source": [
    "var=np.random.randint(1,10,(4,4))\n",
    "var"
   ]
  },
  {
   "cell_type": "markdown",
   "id": "9a692612-4352-457a-9922-7055a53bf7bf",
   "metadata": {},
   "source": [
    "                                                                "
   ]
  },
  {
   "cell_type": "code",
   "execution_count": 104,
   "id": "7eb81b03-338e-4d9f-a85b-2f1435c80ffe",
   "metadata": {},
   "outputs": [
    {
     "name": "stdout",
     "output_type": "stream",
     "text": [
      "int8\n",
      "[1 2 3 4]\n"
     ]
    }
   ],
   "source": [
    "x=np.array([1,2,3,4],dtype=np.int8)\n",
    "print(x.dtype)\n",
    "print(x)"
   ]
  },
  {
   "cell_type": "code",
   "execution_count": 107,
   "id": "301f09b5-5a9c-4864-8ffd-79ca54ca2628",
   "metadata": {},
   "outputs": [
    {
     "name": "stdout",
     "output_type": "stream",
     "text": [
      "float32\n",
      "[1. 2. 3. 4.]\n"
     ]
    }
   ],
   "source": [
    "x1=np.array([1,2,3,4],dtype='f')\n",
    "print(x1.dtype)\n",
    "print(x1)"
   ]
  },
  {
   "cell_type": "code",
   "execution_count": 109,
   "id": "ee4bb83d-5313-4824-a92e-d38fc27c2723",
   "metadata": {},
   "outputs": [
    {
     "name": "stdout",
     "output_type": "stream",
     "text": [
      "[1 2 3 4]\n",
      "[1. 2. 3. 4.]\n"
     ]
    }
   ],
   "source": [
    "x1=np.array([1,2,3,4])\n",
    "new_1=x1.astype(float)\n",
    "print(x1)\n",
    "print(new_1)"
   ]
  },
  {
   "cell_type": "markdown",
   "id": "e6f91e65-6b9b-4fa3-b16a-6af74f9cf83e",
   "metadata": {},
   "source": [
    "                                                            Shape and Reshape"
   ]
  },
  {
   "cell_type": "code",
   "execution_count": 116,
   "id": "0b724924-f18d-4876-a8c7-fe68482bd4f7",
   "metadata": {},
   "outputs": [
    {
     "name": "stdout",
     "output_type": "stream",
     "text": [
      "value [[1 2 3 4]\n",
      " [5 6 7 8]]\n",
      "Shape (2, 4)\n"
     ]
    }
   ],
   "source": [
    "var=np.array([[1,2,3,4],[5,6,7,8]])\n",
    "print(\"value\",var)\n",
    "print(\"Shape\",var.shape)"
   ]
  },
  {
   "cell_type": "code",
   "execution_count": 121,
   "id": "9f30657d-4208-49fb-9be6-7960a50f881e",
   "metadata": {},
   "outputs": [
    {
     "name": "stdout",
     "output_type": "stream",
     "text": [
      "[[[[[1 2 3 5]]]]]\n",
      "(2, 4)\n"
     ]
    }
   ],
   "source": [
    "var1=np.array([1,2,3,5],ndmin=5)\n",
    "print(var1)\n",
    "print(var.shape)"
   ]
  },
  {
   "cell_type": "markdown",
   "id": "f7612066-8530-49d7-9838-4098d6d17e51",
   "metadata": {},
   "source": [
    "                                                                        Reshape"
   ]
  },
  {
   "cell_type": "code",
   "execution_count": 128,
   "id": "6ae3158f-0f57-4a92-9fb9-8bd943570676",
   "metadata": {},
   "outputs": [
    {
     "name": "stdout",
     "output_type": "stream",
     "text": [
      "[[1 2 3]\n",
      " [4 5 6]\n",
      " [7 8 9]]\n",
      "2\n",
      "(3, 3)\n"
     ]
    }
   ],
   "source": [
    "var=np.array([1,2,3,4,5,6,7,8,9])\n",
    "x=var.reshape(3,3)\n",
    "print(x)\n",
    "print(x.ndim)\n",
    "print(x.shape)"
   ]
  },
  {
   "cell_type": "markdown",
   "id": "c0c6112b-52e2-4c12-8383-d2e48da50667",
   "metadata": {},
   "source": [
    "                                                    Multi-Dimensional"
   ]
  },
  {
   "cell_type": "code",
   "execution_count": 130,
   "id": "e15acda6-be2b-4647-b2ec-848e4ca32122",
   "metadata": {},
   "outputs": [
    {
     "name": "stdout",
     "output_type": "stream",
     "text": [
      "[[[ 1  2]\n",
      "  [ 3  4]\n",
      "  [ 5  6]]\n",
      "\n",
      " [[ 7  8]\n",
      "  [ 9 10]\n",
      "  [11 12]]]\n",
      "3\n",
      "(2, 3, 2)\n"
     ]
    }
   ],
   "source": [
    "var3=np.array([1,2,3,4,5,6,7,8,9,10,11,12])\n",
    "x=var3.reshape(2,3,2)\n",
    "print(x)\n",
    "print(x.ndim)\n",
    "print(x.shape)"
   ]
  },
  {
   "cell_type": "markdown",
   "id": "dcfd0cab-3146-48a7-83f0-a429e853f608",
   "metadata": {},
   "source": [
    "                                                                Back to one Dimension"
   ]
  },
  {
   "cell_type": "code",
   "execution_count": 131,
   "id": "3e7ed040-907a-4822-bce6-de8753098243",
   "metadata": {},
   "outputs": [
    {
     "name": "stdout",
     "output_type": "stream",
     "text": [
      "[[[ 1  2]\n",
      "  [ 3  4]\n",
      "  [ 5  6]]\n",
      "\n",
      " [[ 7  8]\n",
      "  [ 9 10]\n",
      "  [11 12]]]\n",
      "\n",
      "[ 1  2  3  4  5  6  7  8  9 10 11 12]\n"
     ]
    }
   ],
   "source": [
    "var3=np.array([1,2,3,4,5,6,7,8,9,10,11,12])\n",
    "x=var3.reshape(2,3,2)\n",
    "print(x)\n",
    "print()\n",
    "z=x.reshape(-1)\n",
    "print(z)"
   ]
  },
  {
   "cell_type": "code",
   "execution_count": null,
   "id": "352df4d7-0c38-4509-b2bf-bca92b139bd7",
   "metadata": {},
   "outputs": [],
   "source": []
  }
 ],
 "metadata": {
  "kernelspec": {
   "display_name": "Python 3 (ipykernel)",
   "language": "python",
   "name": "python3"
  },
  "language_info": {
   "codemirror_mode": {
    "name": "ipython",
    "version": 3
   },
   "file_extension": ".py",
   "mimetype": "text/x-python",
   "name": "python",
   "nbconvert_exporter": "python",
   "pygments_lexer": "ipython3",
   "version": "3.12.0"
  },
  "widgets": {
   "application/vnd.jupyter.widget-state+json": {
    "state": {},
    "version_major": 2,
    "version_minor": 0
   }
  }
 },
 "nbformat": 4,
 "nbformat_minor": 5
}
