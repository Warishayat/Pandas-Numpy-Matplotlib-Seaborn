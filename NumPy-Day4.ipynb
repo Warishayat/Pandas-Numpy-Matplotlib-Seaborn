{
 "cells": [
  {
   "cell_type": "code",
   "execution_count": 10,
   "id": "e9fedf18-c586-400a-a583-54768bc41be6",
   "metadata": {},
   "outputs": [
    {
     "name": "stderr",
     "output_type": "stream",
     "text": [
      "ERROR: unknown command \"instal\" - maybe you meant \"install\"\n",
      "\n"
     ]
    }
   ],
   "source": [
    "import numpy as np"
   ]
  },
  {
   "cell_type": "code",
   "execution_count": 11,
   "id": "1b501325-a2db-4c69-b802-01170b8172e0",
   "metadata": {},
   "outputs": [
    {
     "data": {
      "text/plain": [
       "array([1, 2, 3, 4])"
      ]
     },
     "execution_count": 11,
     "metadata": {},
     "output_type": "execute_result"
    }
   ],
   "source": [
    "var=np.array([1,2,3,4])\n",
    "var"
   ]
  },
  {
   "cell_type": "markdown",
   "id": "b8bebade-a699-4ed7-8c50-de5064743834",
   "metadata": {},
   "source": [
    "                                                        Matrix"
   ]
  },
  {
   "cell_type": "code",
   "execution_count": 17,
   "id": "17c3de32-e361-49a6-92f4-7d564a76826b",
   "metadata": {},
   "outputs": [
    {
     "name": "stdout",
     "output_type": "stream",
     "text": [
      "[[ 2  4  6  8]\n",
      " [ 8 10 12 14]]\n",
      "<class 'numpy.matrix'>\n"
     ]
    }
   ],
   "source": [
    "arr=np.matrix([[1,2,3,4],[4,5,6,7]])\n",
    "print(arr*2)\n",
    "print(type(arr))"
   ]
  },
  {
   "cell_type": "code",
   "execution_count": 20,
   "id": "f017f090-6f69-455e-8489-ff1f2a30fea7",
   "metadata": {},
   "outputs": [
    {
     "name": "stdout",
     "output_type": "stream",
     "text": [
      "[[ 2  4  6  8]\n",
      " [ 8 10 12 14]]\n",
      "<class 'numpy.ndarray'>\n"
     ]
    }
   ],
   "source": [
    "var_1=np.array([[1,2,3,4],[4,5,6,7]])\n",
    "print(var_1*2)\n",
    "print(type(var_1))"
   ]
  },
  {
   "cell_type": "code",
   "execution_count": 26,
   "id": "81190b3d-9ca5-4b31-861b-8e286eadfef8",
   "metadata": {},
   "outputs": [
    {
     "name": "stdout",
     "output_type": "stream",
     "text": [
      "[[ 9 12]\n",
      " [24 33]]\n",
      "\n",
      "[[ 9 12]\n",
      " [24 33]]\n"
     ]
    }
   ],
   "source": [
    "arr1=np.matrix([[1,2],[4,5]])\n",
    "arr2=np.matrix([[1,2],[4,5]])\n",
    "print(arr1*arr2)\n",
    "print()\n",
    "print(arr1.dot(arr2))"
   ]
  },
  {
   "cell_type": "code",
   "execution_count": 32,
   "id": "8507d59b-d093-461e-b39f-093465e7c817",
   "metadata": {},
   "outputs": [
    {
     "name": "stdout",
     "output_type": "stream",
     "text": [
      "[[ 1  4]\n",
      " [16 25]]\n",
      "\n",
      "[[ 1  4]\n",
      " [16 25]]\n"
     ]
    }
   ],
   "source": [
    "var_1=np.array([[1,2],[4,5]])\n",
    "var_2=np.array([[1,2],[4,5]])\n",
    "print(var_1*var_2)\n",
    "print()\n",
    "print(np.multiply(var_1,var_2))"
   ]
  },
  {
   "cell_type": "markdown",
   "id": "0cfb7343-630a-4578-9e5d-4bfe32e5565d",
   "metadata": {},
   "source": [
    "                                                            Matrix Function in NumPy"
   ]
  },
  {
   "cell_type": "code",
   "execution_count": 37,
   "id": "bde21009-9153-4dd6-beda-e7be8c4d4a10",
   "metadata": {},
   "outputs": [
    {
     "data": {
      "text/plain": [
       "matrix([[1, 2, 3],\n",
       "        [4, 5, 6]])"
      ]
     },
     "execution_count": 37,
     "metadata": {},
     "output_type": "execute_result"
    }
   ],
   "source": [
    "matrix=np.matrix([[1,2,3],[4,5,6]])\n",
    "matrix"
   ]
  },
  {
   "cell_type": "markdown",
   "id": "c9c89934-49d3-4729-b2bf-88a6c89dbb50",
   "metadata": {},
   "source": [
    "                                                            Transpose"
   ]
  },
  {
   "cell_type": "code",
   "execution_count": 38,
   "id": "75828874-ed7d-4ca6-a6ad-0ef013972b37",
   "metadata": {},
   "outputs": [
    {
     "name": "stdout",
     "output_type": "stream",
     "text": [
      "[[1 4]\n",
      " [2 5]\n",
      " [3 6]]\n"
     ]
    }
   ],
   "source": [
    "print(np.transpose(matrix))"
   ]
  },
  {
   "cell_type": "code",
   "execution_count": 39,
   "id": "0b658edd-5a75-4f65-ae03-ff4b4503e2a8",
   "metadata": {},
   "outputs": [],
   "source": [
    "                                                                #Swapcase"
   ]
  },
  {
   "cell_type": "code",
   "execution_count": 43,
   "id": "30691bce-8cd0-43b4-9ce8-57f55e8ff2ab",
   "metadata": {},
   "outputs": [
    {
     "name": "stdout",
     "output_type": "stream",
     "text": [
      "[[1 4]\n",
      " [2 5]\n",
      " [3 6]]\n"
     ]
    }
   ],
   "source": [
    "print(np.swapaxes(matrix,0,1))"
   ]
  },
  {
   "cell_type": "code",
   "execution_count": 44,
   "id": "311964bb-b832-477f-9a30-644ea1c36cbc",
   "metadata": {},
   "outputs": [],
   "source": [
    "                                                            #inverse"
   ]
  },
  {
   "cell_type": "code",
   "execution_count": 67,
   "id": "31e64aad-7991-4465-9ee8-210d5a14ffc4",
   "metadata": {},
   "outputs": [
    {
     "name": "stdout",
     "output_type": "stream",
     "text": [
      "[[1 2]\n",
      " [4 5]]\n",
      "\n",
      "[[-1.66666667  0.66666667]\n",
      " [ 1.33333333 -0.33333333]]\n"
     ]
    }
   ],
   "source": [
    "matrix=np.matrix([[1,2],[4,5]])\n",
    "print(matrix)\n",
    "print()\n",
    "print(np.linalg.inv(matrix))"
   ]
  },
  {
   "cell_type": "code",
   "execution_count": 66,
   "id": "d6a78447-7483-4b8a-a86a-233d44ae0434",
   "metadata": {},
   "outputs": [
    {
     "name": "stdout",
     "output_type": "stream",
     "text": [
      "-6.0\n"
     ]
    }
   ],
   "source": [
    "var=np.matrix([[1,2,3],[4,5,3],[7,8,5]])\n",
    "print(np.linalg.det(var))"
   ]
  },
  {
   "cell_type": "code",
   "execution_count": null,
   "id": "8c64438d-f87a-4f65-a89e-0cf8ebf6edc3",
   "metadata": {},
   "outputs": [],
   "source": []
  }
 ],
 "metadata": {
  "kernelspec": {
   "display_name": "Python 3 (ipykernel)",
   "language": "python",
   "name": "python3"
  },
  "language_info": {
   "codemirror_mode": {
    "name": "ipython",
    "version": 3
   },
   "file_extension": ".py",
   "mimetype": "text/x-python",
   "name": "python",
   "nbconvert_exporter": "python",
   "pygments_lexer": "ipython3",
   "version": "3.12.0"
  },
  "widgets": {
   "application/vnd.jupyter.widget-state+json": {
    "state": {},
    "version_major": 2,
    "version_minor": 0
   }
  }
 },
 "nbformat": 4,
 "nbformat_minor": 5
}
